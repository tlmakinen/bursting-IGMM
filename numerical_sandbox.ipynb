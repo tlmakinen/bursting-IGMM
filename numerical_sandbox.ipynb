{
 "cells": [
  {
   "cell_type": "code",
   "execution_count": 2,
   "metadata": {},
   "outputs": [],
   "source": [
    "import numpy as np\n",
    "import matplotlib.pyplot as plt"
   ]
  },
  {
   "cell_type": "code",
   "execution_count": 17,
   "metadata": {},
   "outputs": [],
   "source": [
    "# promoter signal testing\n",
    "# k_on is exponential distribution clustering paramter for on states, k_off for off\n",
    "# duration is the total simulation duration\n",
    "def telegraph(k_on, k_off, sig_init, t_step, duration):\n",
    "    signal = []\n",
    "    time = []\n",
    "    \n",
    "    signal = [sig_init] # add in the initial signal\n",
    "    time = [0]\n",
    "    if sig_init == 1:     # if our initial condition is an ON signal, start from there\n",
    "        k_init = k_on\n",
    "        k = k_on\n",
    "    if sig_init == 0: \n",
    "        k_init = k_off\n",
    "        k = k_off\n",
    "    time += [np.random.exponential(k_init)*t_step]\n",
    "    signal += [1]\n",
    "    \n",
    "    for i in range(duration//t_step):\n",
    "        if k == k_off:\n",
    "            signal += [1] \n",
    "            time += [time[i-1] + (np.random.exponential(k_on) * t_step)]\n",
    "            k = k_on\n",
    "        if k == k_on:\n",
    "            time += [time[i-1] + (np.random.exponential(k_off) * t_step)]\n",
    "            signal += [0]\n",
    "            k = k_off\n",
    "    return np.asarray(time),np.asarray(signal)\n",
    "    "
   ]
  },
  {
   "cell_type": "code",
   "execution_count": 446,
   "metadata": {},
   "outputs": [],
   "source": [
    "# promoter signal testing: simulate a signal as a step function that oscillates between 0 \"OFF\" and 1 \"ON\" with\n",
    "# OFF and ON wait times distributed according to respective exponential probability distributions.\n",
    "\n",
    "def telegraph(k_on, k_off, duration, stepsize):\n",
    "# k_on is exponential distribution clustering paramter for \"ON\" states, k_off for \"OFF\"\n",
    "# duration is the total simulation time, in seconds\n",
    "# stepsize is the number of seconds per step (e.g. 3 seconds per observation)\n",
    "\n",
    "    on_off = np.zeros((duration//stepsize))                                             # create array of on-off durations\n",
    "    on_off[0::2] = np.random.exponential(scale=(1./k_off), size=len(on_off[0::2]))      # fill every other value with exponentially-distributed off durations\n",
    "    on_off[1::2] = np.random.exponential(scale=(1./k_on), size=len(on_off[1::2]))       # then fill in every other place with \"ON\" durations\n",
    "\n",
    "    promoter_arr = np.zeros((duration//stepsize))\n",
    "        \n",
    "    signal = 0           # start in the off state\n",
    "    t0 = 0               # start at t0\n",
    "    t1 = 0               # step size to be chosen in loop\n",
    "    \n",
    "    step_arr = np.zeros(duration//stepsize)\n",
    "                                \n",
    "    for i in range(len(promoter_arr)):\n",
    "        t1 = int(on_off[i] / stepsize)              # find the time until which the signal remains in its state\n",
    "        promoter_arr[t0:(t0 + t1)] = signal         # for the given duration of the ith state, fill the value with either \"ON\" or \"OFF\" values\n",
    "        signal = 1 - signal                         # change the signal by flipping the switch to either 1 or 0.\n",
    "        t0 = t0 + t1\n",
    "        step_arr[i] = t0                            # \n",
    "\n",
    "    return promoter_arr                             # returns telegraph signal of promoter indexed by stepsize (discrete steps).\n",
    "    "
   ]
  },
  {
   "cell_type": "code",
   "execution_count": 447,
   "metadata": {},
   "outputs": [],
   "source": [
    "sig = telegraph(0.03, 0.03, 555, 3)"
   ]
  },
  {
   "cell_type": "code",
   "execution_count": 448,
   "metadata": {},
   "outputs": [
    {
     "data": {
      "text/plain": [
       "[<matplotlib.lines.Line2D at 0x79aeb43240>]"
      ]
     },
     "execution_count": 448,
     "metadata": {},
     "output_type": "execute_result"
    },
    {
     "data": {
      "image/png": "[encoded data removed]",
      "text/plain": [
       "<Figure size 432x288 with 1 Axes>"
      ]
     },
     "metadata": {},
     "output_type": "display_data"
    }
   ],
   "source": [
    "plt.plot(sig)"
   ]
  },
  {
   "cell_type": "code",
   "execution_count": 445,
   "metadata": {},
   "outputs": [
    {
     "data": {
      "text/plain": [
       "array([0., 0., 0., 0., 0., 0., 1., 1., 1., 1., 1., 1., 1., 1., 1., 1., 1.,\n",
       "       1., 1., 1., 1., 0., 0., 0., 0., 0., 0., 0., 0., 0., 0., 0., 0., 0.,\n",
       "       0., 0., 0., 0., 0., 0., 0., 1., 1., 1., 1., 1., 1., 1., 1., 1., 1.,\n",
       "       1., 1., 1., 1., 1., 1., 1., 1., 1., 1., 1., 1., 1., 1., 1., 1., 1.,\n",
       "       1., 1., 1., 1., 1., 0., 0., 0., 0., 0., 0., 0., 0., 0., 0., 0., 0.,\n",
       "       0., 0., 0., 0., 0., 1., 1., 1., 1., 1., 1., 1., 1., 0., 1., 1., 1.,\n",
       "       1., 1., 1., 1., 1., 1., 1., 1., 1., 0., 0., 0., 0., 0., 0., 0., 0.,\n",
       "       0., 0., 0., 0., 0., 1., 1., 1., 1., 1., 1., 1., 1., 1., 1., 1., 1.,\n",
       "       1., 1., 1., 1., 1., 1., 1., 1., 0., 0., 0., 1., 1., 0., 0., 0., 0.,\n",
       "       0., 0., 1., 1., 1., 1., 1., 1., 1., 1., 1., 1., 1., 1., 1., 1., 1.,\n",
       "       1., 1., 1., 1., 0., 0., 0., 0., 0., 0., 0., 1., 1., 1., 1.])"
      ]
     },
     "execution_count": 445,
     "metadata": {},
     "output_type": "execute_result"
    }
   ],
   "source": [
    "sig"
   ]
  },
  {
   "cell_type": "code",
   "execution_count": null,
   "metadata": {},
   "outputs": [],
   "source": [
    "# now add in signal agglomeration. When the signal is 1, start the agglomeration of molecules at a given rate k_gfp.\n",
    "# needed parameters\n",
    "\n",
    "def gfp_signal(telegraph, k_gfp, cts_per_gfp, pol_per_timestep, max_gfp stepsize):\n",
    "    \n",
    "    # get k_gfp from molecules / sec to molecules / step\n",
    "    k_gfp_step = k_gfp / stepsize\n",
    "\n",
    "    molecules = np.zeros(len(telegraph))\n",
    "    t = []\n",
    "    dt = 0\n",
    "    t0 = 0\n",
    "    t1 = 0\n",
    "    pol_arr = []    # array to keep track of the in-progress pol IIs\n",
    "    \n",
    "    for i in range(len(telegraph)):\n",
    "        if telegraph[i] == 1:   # if at a step i the signal is ON, start a pol II molecule\n",
    "            pol_arr = np.append(pol_arr, [0])\n",
    "            \n",
    "        \n",
    "        for j in pol_arr\n",
    "            \n",
    "            t0 = t1  # increment the step to the next one\n",
    "            \n",
    "        molecules[i] = k_gfp_step * (t1-t1)     # integrate along the step\n",
    "            \n",
    "            \n",
    "        "
   ]
  }
 ],
 "metadata": {
  "kernelspec": {
   "display_name": "Python 3",
   "language": "python",
   "name": "python3"
  },
  "language_info": {
   "codemirror_mode": {
    "name": "ipython",
    "version": 3
   },
   "file_extension": ".py",
   "mimetype": "text/x-python",
   "name": "python",
   "nbconvert_exporter": "python",
   "pygments_lexer": "ipython3",
   "version": "3.6.5"
  }
 },
 "nbformat": 4,
 "nbformat_minor": 2
}

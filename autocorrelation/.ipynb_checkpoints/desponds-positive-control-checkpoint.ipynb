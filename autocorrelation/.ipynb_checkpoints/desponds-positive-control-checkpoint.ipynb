{
 "cells": [
  {
   "cell_type": "code",
   "execution_count": 43,
   "metadata": {},
   "outputs": [
    {
     "data": {
      "text/plain": [
       "\"Notebook following Desponds et al's autocorrelation inference procedure on their data as a positive control\""
      ]
     },
     "execution_count": 43,
     "metadata": {},
     "output_type": "execute_result"
    }
   ],
   "source": [
    "\"\"\"Notebook following Desponds et al's autocorrelation inference procedure on their data as a positive control\"\"\""
   ]
  },
  {
   "cell_type": "code",
   "execution_count": 44,
   "metadata": {},
   "outputs": [],
   "source": [
    "import numpy as np\n",
    "import matplotlib.pyplot as plt\n",
    "from scipy.optimize import curve_fit"
   ]
  },
  {
   "cell_type": "code",
   "execution_count": 45,
   "metadata": {},
   "outputs": [],
   "source": [
    "from astropy.table import Table"
   ]
  },
  {
   "cell_type": "code",
   "execution_count": 46,
   "metadata": {},
   "outputs": [],
   "source": [
    "import gfp_signal\n",
    "from telegraph import exponential"
   ]
  },
  {
   "cell_type": "code",
   "execution_count": 47,
   "metadata": {},
   "outputs": [],
   "source": [
    "import csv\n",
    "import os"
   ]
  },
  {
   "cell_type": "code",
   "execution_count": 48,
   "metadata": {},
   "outputs": [],
   "source": [
    "# helpful function for cutting the autocorrelation function into two parts (only want righthand side decay shape)\n",
    "def findMiddleIndex(input_list):\n",
    "    middle = float(len(input_list))/2\n",
    "    if middle % 2 != 0:\n",
    "        return int(middle - .5)\n",
    "    else:\n",
    "        return (int(middle))"
   ]
  },
  {
   "cell_type": "code",
   "execution_count": 49,
   "metadata": {},
   "outputs": [],
   "source": [
    "\"\"\" create the array of MS2 loops, L, as a function of position, i\n",
    "    ***NOTE*** in Desponds et al: \"Li\" ~should really be written L(i) \n",
    "    (adapted from Desponds et al Matlab code) \"\"\"\n",
    "import scipy.io as spio\n",
    "def loopfn(despondsfile, tPol, k_elong, sizePol):\n",
    "    # load in Desponds et al's loop function\n",
    "    loopFn = spio.loadmat(despondsfile)\n",
    "    \n",
    "    ms = loopFn['ms']\n",
    "    ms = ms[0]              # stupid matLab puts an array inside an array\n",
    "    \n",
    "    \n",
    "    # make the L(i) function (array of values)\n",
    "    Li_fn = []\n",
    "    for i in range(len(ms)//sizePol):    \n",
    "        Li_fn.append(np.sum(ms[(sizePol*(i-1)+1) : (sizePol*i)]) / sizePol)\n",
    "    \n",
    "    if (i < len(ms) // sizePol):\n",
    "        Li_fn[i] = np.sum(ms[(sizePol*(i)+1):-1]) / sizePol\n",
    "        \n",
    "    return Li_fn,ms"
   ]
  },
  {
   "cell_type": "code",
   "execution_count": null,
   "metadata": {},
   "outputs": [],
   "source": [
    "plt.plot(tracelist[80])\n",
    "plt.plot(tellist[80])"
   ]
  },
  {
   "cell_type": "code",
   "execution_count": 50,
   "metadata": {},
   "outputs": [],
   "source": [
    "# define all needed parameters for simulation#\n",
    "from loopFunction import DespondsMs2Loops\n",
    "\n",
    "despondsfile = 'standalone/therightL.mat'\n",
    "stepsize = 3            # time between observations, seconds\n",
    "tPol=6;                 # polII loading time\n",
    "k_elong=25;             # Elongation rate\n",
    "sizePol = tPol * k_elong     # Footprint, in basepairs, of polII\n",
    "\n",
    "k_on = 0.0137\n",
    "k_off = 0.0139\n",
    "duration = 615   # seconds\n",
    "num = 100           # number of traces in our simulated dataset\n",
    "\n",
    "loop_function = DespondsMs2Loops(despondsfile, tPol, k_elong).loopsByBp"
   ]
  },
  {
   "cell_type": "code",
   "execution_count": 51,
   "metadata": {},
   "outputs": [],
   "source": [
    "# Now let's simulate 100 traces to create a package of traces we'd expect to get from actual data.\n",
    "# Parameters:\n",
    "auto_traces = []    # empty list of autocorrelation arrays\n",
    "tracelist = []      # empty list of traces \n",
    "corrected_traces = []     # corrected traces\n",
    "max_list = []\n",
    "\n",
    "for i in range(num):\n",
    "    tel = exponential(k_on, k_off, duration)  # create a new signal every time      \n",
    "    gfp = gfp_signal.gfp_signal(telegraph=tel.signal, k_elong=k_elong, loop_function=loop_function, tPol=tPol, stepsize=stepsize)\n",
    "    \n",
    "    trace = np.asarray(gfp.signal) \n",
    "    \n",
    "    tracelist.append(trace)\n",
    "    max_list.append(np.max(np.asarray(trace)))"
   ]
  },
  {
   "cell_type": "code",
   "execution_count": 52,
   "metadata": {},
   "outputs": [],
   "source": [
    "# take in anterior cell cycle 13 data ... Pon should be about 0.45\n",
    "table = Table.read('desponds_data/embryo1-anterior-nc13.csv')"
   ]
  },
  {
   "cell_type": "code",
   "execution_count": 53,
   "metadata": {},
   "outputs": [],
   "source": [
    "tracelist = np.asarray(tracelist)"
   ]
  },
  {
   "cell_type": "code",
   "execution_count": 54,
   "metadata": {},
   "outputs": [
    {
     "data": {
      "image/png": "[encoded data removed]",
      "text/plain": [
       "<Figure size 432x288 with 1 Axes>"
      ]
     },
     "metadata": {},
     "output_type": "display_data"
    }
   ],
   "source": [
    "plt.plot(np.arange(len(tracelist[1])), tracelist[99])\n",
    "plt.show()"
   ]
  },
  {
   "cell_type": "code",
   "execution_count": 55,
   "metadata": {},
   "outputs": [
    {
     "data": {
      "image/png": "[encoded data removed]",
      "text/plain": [
       "<Figure size 432x288 with 1 Axes>"
      ]
     },
     "metadata": {},
     "output_type": "display_data"
    }
   ],
   "source": [
    "plt.plot(np.arange(len(tracelist[1])), np.mean(tracelist, axis=0), color='green', label='average simulated intensity over time')\n",
    "plt.legend(loc='best')\n",
    "\n",
    "plt.show()"
   ]
  },
  {
   "cell_type": "code",
   "execution_count": 56,
   "metadata": {},
   "outputs": [
    {
     "data": {
      "text/plain": [
       "<matplotlib.legend.Legend at 0xe7f1894fd0>"
      ]
     },
     "execution_count": 56,
     "metadata": {},
     "output_type": "execute_result"
    },
    {
     "data": {
      "image/png": "[encoded data removed]",
      "text/plain": [
       "<Figure size 432x288 with 1 Axes>"
      ]
     },
     "metadata": {},
     "output_type": "display_data"
    }
   ],
   "source": [
    "# plot mean intensity over time to define good steady-state window for embryo trace package\n",
    "traces=[]\n",
    "for name in table.colnames:\n",
    "    trace = table[name]\n",
    "    traces.append(trace)\n",
    "    \n",
    "seconds = np.arange(len(tracelist[0])) * stepsize\n",
    "\n",
    "plt.plot(np.mean(tracelist, axis=0), color='green', label=\"mean trace intensity over time\")\n",
    "plt.xlabel('time (seconds)')\n",
    "plt.legend()"
   ]
  },
  {
   "cell_type": "code",
   "execution_count": 57,
   "metadata": {},
   "outputs": [],
   "source": [
    "# hard-code the autocorrelation of the signal from eq. (12) in Desponds et al\n",
    "def autocorrelateSignal(trace):\n",
    "    # over time-delay r\n",
    "    auto_fn = []\n",
    "    for r in range(len(trace)):\n",
    "        sm1 = 0\n",
    "        for i in range(len(trace)):\n",
    "            for j in range(len(trace)):\n",
    "                sm1 += trace[i]*trace[j]\n",
    "        sm2 = 0.\n",
    "        for k in range(len(trace)):\n",
    "            #print(type(k))\n",
    "            sm2 += (k^2)\n",
    "        \n",
    "        norm = ((len(trace)-float(r)) / len(trace)) * sm2\n",
    "        auto_fn.append(sm1 / norm)\n",
    "        return np.asarray(auto_fn)"
   ]
  },
  {
   "cell_type": "code",
   "execution_count": 58,
   "metadata": {},
   "outputs": [],
   "source": [
    "start_index = 110\n",
    "stop_index = -1"
   ]
  },
  {
   "cell_type": "code",
   "execution_count": 59,
   "metadata": {},
   "outputs": [],
   "source": [
    "def tracePackageAutocorrelation(og_tracelist, start_index, stop_index, loop_function):\n",
    "    # compute autocorrelation with long time traces\n",
    "    autolist = []\n",
    "    tracelist = []\n",
    "    tracelist_corr = []\n",
    "    max_intens = []\n",
    "\n",
    "\n",
    "    for j in og_tracelist:\n",
    "    # calibrate fluorescence signal: F(t) = I(t) / Io, Io = <Imax> / sum(loop)\n",
    "        max_intens.append(np.max(j[start_index:stop_index])) # get maximum fluorescence from each trace in given region\n",
    "\n",
    "            # DO WE STILL COUNT ZERO SIGNAL CELLS????  --> yes, in fact, since they contribute to the average gene expression\n",
    "            # for a given region.\n",
    "\n",
    "    Imax = np.mean(np.asarray(max_intens))   # mean of the maxima of all traces in set\n",
    "    \n",
    "    I_o = (Imax / np.sum(loop_function))\n",
    "    print('Io = ', I_o)\n",
    "\n",
    "    for trace in og_tracelist:\n",
    "                \n",
    "        # calibrate fluorescence signal: F(t) = I(t) / Io        \n",
    "        calibrated_trace = trace / I_o   \n",
    "\n",
    "        # subtract out mean signal of each trace to prevent nucleus-nucleus variability\n",
    "        corrected_trace = calibrated_trace - np.nanmean(calibrated_trace)\n",
    "        \n",
    "        # check for weird zero traces and fill their autocorrelations with nans\n",
    "        colsum = np.sum(trace)    \n",
    "\n",
    "        if (colsum == 0):                                      # don't plot the zero signal traces\n",
    "            auto_norm = np.ones(len(trace)) * np.nan         # set zero signal cells to nan to be ignored\n",
    "\n",
    "        else: \n",
    "            auto = np.correlate(corrected_trace, corrected_trace, 'full')\n",
    "            #auto = autocorrelateSignal(corrected_trace)\n",
    "            auto = auto[np.argmax(auto):]     # take half of the autocorrelation function\n",
    "\n",
    "            # finally, normalize        \n",
    "            #auto_norm = auto / auto[0]\n",
    "            for r in range(len(auto)):\n",
    "                norm = []\n",
    "                sm2 = 0.\n",
    "                for k in range(1,len(corrected_trace)):\n",
    "                    sm2 += (corrected_trace[k]**2)\n",
    "                norm.append(((len(corrected_trace)-float(r)) / len(corrected_trace)) * sm2)\n",
    "\n",
    "            auto_norm = auto / (np.asarray(norm))\n",
    "\n",
    "        autolist.append(auto_norm) #/ auto_norm[1])   # normalize by second data point\n",
    "        tracelist.append(calibrated_trace)\n",
    "        tracelist_corr.append(corrected_trace)\n",
    "        \n",
    "    #plt.plot(tracelist[4])\n",
    "    #print(np.mean(tracelist[3]))\n",
    "\n",
    "    #plt.ylabel(r'$F(t) =$ $I(t)$ / $I_o$')\n",
    "    #plt.show()\n",
    "    \n",
    "\n",
    "    \n",
    "    autoav = np.nanmean(np.asarray(autolist), axis=0)\n",
    "    autoav = autoav / autoav[1]\n",
    "    autostd_err = np.nanstd(autoav, axis=0, ddof=np.arange(len(autoav))) #/ np.sqrt(len(tracelist))   # standard error on autocorr\n",
    "    \n",
    "    return autoav[1:],tracelist_corr,autolist,tracelist,autostd_err[1:]"
   ]
  },
  {
   "cell_type": "code",
   "execution_count": 70,
   "metadata": {},
   "outputs": [
    {
     "name": "stdout",
     "output_type": "stream",
     "text": [
      "Io =  1.0\n"
     ]
    }
   ],
   "source": [
    "autoav,tracelist_corr,autolist,tracelist,autostd = tracePackageAutocorrelation(tracelist, start_index, stop_index, loop_function)"
   ]
  },
  {
   "cell_type": "code",
   "execution_count": 460,
   "metadata": {},
   "outputs": [],
   "source": [
    "\n",
    "class tracePackageAutocorrelation:\n",
    "\n",
    "    def __init__(self, tracelist, loop_function, start_index, stop_index, tPol, k_elong):\n",
    "        # compute autocorrelation with long time traces\n",
    "        self.tracelist = tracelist     # list of spot intensities over time\n",
    "        self.start_index = start_index\n",
    "        self.stop_index = stop_index\n",
    "        self.tPol  = tPol\n",
    "        self.k_elong = k_elong\n",
    "        self.loop_function = np.asarray(loop_function)\n",
    "        sizePol = self.tPol * self.k_elong\n",
    "\n",
    "    \n",
    "        # compute autocorrelation with long time traces\n",
    "        autolist = []\n",
    "        calibrated_tracelist = []\n",
    "        corrected_tracelist = []\n",
    "        max_intens = []\n",
    "\n",
    "        # calibrate fluorescence signal: F(t) = I(t) / Io, Io = <Imax> / sum(loop)\n",
    "        for j in self.tracelist:\n",
    "            max_intens.append(np.max(j[start_index:stop_index])) # get maximum fluorescence from each trace in given region\n",
    "\n",
    "        Imax = np.mean(np.asarray(max_intens))   # mean of the maxima of all traces in set\n",
    "        I_o = Imax / np.sum(loop_function)       # calibration constant depends on loop function over gene\n",
    "        #print('Io = ', I_o)\n",
    "\n",
    "        for trace in tracelist:\n",
    "                    \n",
    "            # calibrate fluorescence signal: F(t) = I(t) / Io        \n",
    "            calibrated_trace = trace / I_o   \n",
    "\n",
    "            # subtract out mean signal of each trace to prevent nucleus-nucleus variability\n",
    "            corrected_trace = calibrated_trace - np.nanmean(calibrated_trace)\n",
    "            \n",
    "            # check for weird zero traces and fill their autocorrelations with nans\n",
    "            colsum = np.sum(trace)    \n",
    "\n",
    "            if (colsum == 0):                                      # don't plot the zero signal traces\n",
    "                auto_norm = np.ones(len(trace)) * np.nan         # set zero signal cells to nan to be ignored\n",
    "\n",
    "            else: \n",
    "                auto = np.correlate(corrected_trace, corrected_trace, 'full')\n",
    "                #auto = autocorrelateSignal(corrected_trace)\n",
    "                auto = auto[np.argmax(auto):]     # take half of the autocorrelation function\n",
    "\n",
    "                # finally, normalize        \n",
    "                #auto_norm = auto / auto[0]\n",
    "                for r in range(len(auto)):\n",
    "                    norm = []\n",
    "                    sm2 = 0.\n",
    "                    for k in range(1,len(corrected_trace)):\n",
    "                        sm2 += (corrected_trace[k]**2)\n",
    "                    norm.append(((len(corrected_trace)-float(r)) / len(corrected_trace)) * sm2)\n",
    "\n",
    "                auto_norm = auto / (np.asarray(norm))\n",
    "\n",
    "            autolist.append(auto_norm / auto_norm[1])   # normalize by second data point\n",
    "            calibrated_tracelist.append(calibrated_trace)\n",
    "            corrected_tracelist.append(corrected_trace)\n",
    "            \n",
    "        # compute average autocorrelation, ignoring inactive cells\n",
    "        autoav = np.nanmean(np.asarray(autolist), axis=0)  \n",
    "        autoav = autoav / autoav[1]                        # normalize averaged autocorrelation\n",
    "        # compute standard deviation, weighting error by number of points correlated\n",
    "        autostd = np.nanstd(np.asarray(autolist), axis=0)#, \n",
    "                                #ddof=np.arange(len(autoav)))\n",
    "        # compute average fluorescence for each raw simulated trace\n",
    "        avg_flors = []\n",
    "        for i in calibrated_tracelist:\n",
    "            avg_flors.append(np.mean(i))            # stack in an array\n",
    "\n",
    "\n",
    "        self.avgflors = np.asarray(avg_flors)       # return array of average fluorescence\n",
    "        self.autoav = autoav[1:]                           # ignore the unfitted first point\n",
    "        self.autostd = autostd[1:]   \n",
    "        self.calibrated_tracelist = calibrated_tracelist   # intensity-calibrated traces\n",
    "        self.corrected_tracelist  = corrected_tracelist    # mean-subtracted traces"
   ]
  },
  {
   "cell_type": "code",
   "execution_count": 60,
   "metadata": {},
   "outputs": [],
   "source": [
    "def tracePackageBootstrap(calibrated_tracelist):\n",
    "    \n",
    "    # let's get an idea of the spread of our data by using the bootstrap method\n",
    "    # create a routine that bootstrap fits a set of data arrays\n",
    "\n",
    "    tracelist = np.asarray(calibrated_tracelist)          # convert to a numpy array to play with indices\n",
    "    n_traces = len(tracelist)                # number of traces in our dataset\n",
    "    n_trials = 100                      # how many times we wish to compute the bootstrap loop\n",
    "    trace_indx = np.arange(n_traces)      # the index range of the list of traces\n",
    "    auto_averages = []                    # list of averaged autocorrelation functions (should be n_trials long)\n",
    "\n",
    "\n",
    "    # sample randomly, with replacement, a new set of n_traces 10,000 times\n",
    "    for i in range(n_trials):\n",
    "\n",
    "        # from our list of traces, sample radomly the trace_index of these datum in the list\n",
    "        random_indx = np.random.choice(trace_indx, size=n_traces, replace=True)  \n",
    "\n",
    "        # then use this array of indices to create our random distribution of traces\n",
    "        sample_set = tracelist[random_indx]\n",
    "        autolist = []\n",
    "\n",
    "        # next compute the autocorrelation function from this set of traces\n",
    "        \n",
    "        for sample in sample_set:\n",
    "               \n",
    "            corrected_sample = sample - np.nanmean(sample)\n",
    "            \n",
    "            # check for weird zero traces and fill their autocorrelations with nans\n",
    "            colsum = np.sum(sample)    \n",
    "            if (colsum == 0):                                      # don't plot the zero signal traces\n",
    "                auto_norm = np.ones(len(sample)) * np.nan         # set zero signal cells to nan to be ignored\n",
    "\n",
    "            else: \n",
    "                auto = np.correlate(corrected_sample, corrected_sample, 'full')\n",
    "                #auto = autocorrelateSignal(corrected_trace)\n",
    "                auto = auto[np.argmax(auto):]     # take half of the autocorrelation function\n",
    "                                                    # finally, normalize        \n",
    "                auto_norm = auto\n",
    "\n",
    "            autolist.append(auto_norm)\n",
    "            \n",
    "        # compute average autocorrelation, ignoring inactive cells\n",
    "        autoav = np.nanmean(np.asarray(autolist), axis=0)  \n",
    "        autoav = autoav / autoav[1]                        # normalize averaged autocorrelation\n",
    "\n",
    "        # append average to list\n",
    "        auto_averages.append(autoav[1:])\n",
    "        \n",
    "    \n",
    "    # now let's compute the standard deviations of the set of 10000 autocorrelation functions. This is the STANDARD ERROR\n",
    "    # on our dataset\n",
    "    # compute at each time trace:\n",
    "    \n",
    "    \n",
    "    std_dev_arr = np.nanstd(auto_averages, axis=0, ddof=np.arange(len(autoav[1:])))\n",
    "    \n",
    "    return std_dev_arr"
   ]
  },
  {
   "cell_type": "code",
   "execution_count": 61,
   "metadata": {},
   "outputs": [
    {
     "ename": "TypeError",
     "evalue": "tracePackageAutocorrelation() takes 4 positional arguments but 6 were given",
     "output_type": "error",
     "traceback": [
      "\u001b[1;31m---------------------------------------------------------------------------\u001b[0m",
      "\u001b[1;31mTypeError\u001b[0m                                 Traceback (most recent call last)",
      "\u001b[1;32m<ipython-input-61-fa1300bceee6>\u001b[0m in \u001b[0;36m<module>\u001b[1;34m()\u001b[0m\n\u001b[1;32m----> 1\u001b[1;33m \u001b[0mtracePackage\u001b[0m \u001b[1;33m=\u001b[0m \u001b[0mtracePackageAutocorrelation\u001b[0m\u001b[1;33m(\u001b[0m\u001b[0mtracelist\u001b[0m\u001b[1;33m,\u001b[0m \u001b[0mloop_function\u001b[0m\u001b[1;33m,\u001b[0m \u001b[0mstart_index\u001b[0m\u001b[1;33m,\u001b[0m \u001b[0mstop_index\u001b[0m\u001b[1;33m,\u001b[0m \u001b[0mtPol\u001b[0m\u001b[1;33m,\u001b[0m \u001b[0mk_elong\u001b[0m\u001b[1;33m)\u001b[0m\u001b[1;33m\u001b[0m\u001b[0m\n\u001b[0m",
      "\u001b[1;31mTypeError\u001b[0m: tracePackageAutocorrelation() takes 4 positional arguments but 6 were given"
     ]
    }
   ],
   "source": [
    "tracePackage = tracePackageAutocorrelation(tracelist, loop_function, start_index, stop_index, tPol, k_elong)"
   ]
  },
  {
   "cell_type": "code",
   "execution_count": 62,
   "metadata": {},
   "outputs": [
    {
     "ename": "NameError",
     "evalue": "name 'tracePackage' is not defined",
     "output_type": "error",
     "traceback": [
      "\u001b[1;31m---------------------------------------------------------------------------\u001b[0m",
      "\u001b[1;31mNameError\u001b[0m                                 Traceback (most recent call last)",
      "\u001b[1;32m<ipython-input-62-e7bc14f998f4>\u001b[0m in \u001b[0;36m<module>\u001b[1;34m()\u001b[0m\n\u001b[1;32m----> 1\u001b[1;33m \u001b[0mautostd\u001b[0m \u001b[1;33m=\u001b[0m \u001b[0mtracePackage\u001b[0m\u001b[1;33m.\u001b[0m\u001b[0mautostd\u001b[0m\u001b[1;33m\u001b[0m\u001b[0m\n\u001b[0m\u001b[0;32m      2\u001b[0m \u001b[0mautoav\u001b[0m \u001b[1;33m=\u001b[0m \u001b[0mtracePackage\u001b[0m\u001b[1;33m.\u001b[0m\u001b[0mautoav\u001b[0m\u001b[1;33m\u001b[0m\u001b[0m\n",
      "\u001b[1;31mNameError\u001b[0m: name 'tracePackage' is not defined"
     ]
    }
   ],
   "source": [
    "autostd = tracePackage.autostd\n",
    "autoav = tracePackage.autoav"
   ]
  },
  {
   "cell_type": "code",
   "execution_count": 570,
   "metadata": {},
   "outputs": [],
   "source": [
    "len(autoav);"
   ]
  },
  {
   "cell_type": "code",
   "execution_count": 571,
   "metadata": {
    "scrolled": true
   },
   "outputs": [
    {
     "name": "stdout",
     "output_type": "stream",
     "text": [
      "Wall time: 0 ns\n"
     ]
    },
    {
     "name": "stderr",
     "output_type": "stream",
     "text": [
      "C:\\Users\\tmakinen\\AppData\\Local\\Continuum\\anaconda3\\lib\\site-packages\\numpy\\lib\\nanfunctions.py:1434: RuntimeWarning: Degrees of freedom <= 0 for slice.\n",
      "  keepdims=keepdims)\n"
     ]
    }
   ],
   "source": [
    "%time\n",
    "std_dev_arr = tracePackageBootstrap(tracePackage.calibrated_tracelist)"
   ]
  },
  {
   "cell_type": "code",
   "execution_count": null,
   "metadata": {},
   "outputs": [],
   "source": [
    "autoav,tracelist_corr,autolist,tracelist,autostd = tracePackageAutocorrelation(tracelist, start_index, stop_index, loop_function)"
   ]
  },
  {
   "cell_type": "code",
   "execution_count": null,
   "metadata": {},
   "outputs": [],
   "source": [
    "plt.plot(tracelist_corr[12])\n",
    "plt.show()"
   ]
  },
  {
   "cell_type": "code",
   "execution_count": 65,
   "metadata": {},
   "outputs": [],
   "source": [
    "t = np.arange(len(autoav))"
   ]
  },
  {
   "cell_type": "code",
   "execution_count": 71,
   "metadata": {},
   "outputs": [
    {
     "data": {
      "image/png": "[encoded data removed]",
      "text/plain": [
       "<Figure size 432x288 with 1 Axes>"
      ]
     },
     "metadata": {},
     "output_type": "display_data"
    },
    {
     "name": "stdout",
     "output_type": "stream",
     "text": [
      "312\n"
     ]
    }
   ],
   "source": [
    "autoarr = np.asarray(autoav)\n",
    "#autostd = std_dev_arr\n",
    "#for i in autolist:\n",
    "    #plt.plot(t*stepsize,i[1:], alpha=0.3)\n",
    "\n",
    "autocov = np.nanvar(autoarr, axis=0)\n",
    "plt.plot(t, autoav, color = 'g', label = \"average autocorrelation of trace data \\n anterior cell cycle 13\")\n",
    "plt.errorbar(x=t, y=autoav, yerr=(autostd, autostd), ecolor='b', alpha=0.4, label = r'desponds data $\\sigma$ standard error')  \n",
    "#plt.legend(loc='best')\n",
    "plt.ylim(-1, 1.2)\n",
    "plt.show()\n",
    "\n",
    "print(len(autoav))"
   ]
  },
  {
   "cell_type": "code",
   "execution_count": 72,
   "metadata": {},
   "outputs": [],
   "source": [
    "autostd;"
   ]
  },
  {
   "cell_type": "code",
   "execution_count": 73,
   "metadata": {},
   "outputs": [
    {
     "data": {
      "image/png": "[encoded data removed]",
      "text/plain": [
       "<Figure size 432x288 with 1 Axes>"
      ]
     },
     "metadata": {},
     "output_type": "display_data"
    }
   ],
   "source": [
    "tau = np.arange(len(autoav))   # tau array to plot against\n",
    "\n",
    "plt.errorbar(x=t*stepsize, y=autoav, yerr=(autostd, autostd), ecolor='b', alpha=0.4, label = r'desponds data $\\sigma$ standard error')  \n",
    "\n",
    "# show the mean of our original dataset in red\n",
    "plt.plot(t*stepsize, autoav, color='k', label = r'mean simulation dataset autocorrelation M($\\tau$)')\n",
    "plt.legend()\n",
    "plt.xlabel(r'Wait time $\\tau$ (seconds)')\n",
    "plt.ylabel(r'M($\\tau$)')\n",
    "plt.show()\n"
   ]
  },
  {
   "cell_type": "code",
   "execution_count": 74,
   "metadata": {},
   "outputs": [],
   "source": [
    "# STEP TWO: Fit for value of Pon"
   ]
  },
  {
   "cell_type": "code",
   "execution_count": 75,
   "metadata": {},
   "outputs": [],
   "source": [
    "# load in Desponds et al's loop function\n",
    "import scipy.io as spio\n",
    "\n",
    "loopFn = spio.loadmat('standalone/therightL.mat')"
   ]
  },
  {
   "cell_type": "code",
   "execution_count": 76,
   "metadata": {
    "scrolled": true
   },
   "outputs": [
    {
     "name": "stdout",
     "output_type": "stream",
     "text": [
      "MS2 loop agglomeration rate =  0.019002375296912115 loops per basepair\n"
     ]
    },
    {
     "data": {
      "image/png": "[encoded data removed]",
      "text/plain": [
       "<Figure size 432x288 with 1 Axes>"
      ]
     },
     "metadata": {},
     "output_type": "display_data"
    }
   ],
   "source": [
    "\"\"\"Parameters for Li model\n",
    "ms: variable describing the number of binding sites on nascent mRNA\n",
    "    ms[i] is the exact number of binding sites available when polII is \n",
    "    at the exact location i along the gene\n",
    "Li: the number of binding sites on nascent mRNA given a BINNED position of polII i along gene\"\"\"\n",
    "obs_time = 6  # seconds\n",
    "tPol=6;       # RNAP loading time, corresponds to 1 polII every observation\n",
    "k_elong=25;        # Elongation rate\n",
    "sizePol = tPol * k_elong\n",
    "variable = loopFn['ms']\n",
    "ms = variable[0] \n",
    "\n",
    "plt.plot(np.arange(len(ms)), ms, color='green', label = 'Desponds\\' L(i) variable')\n",
    "plt.xlabel('gene location (bp)')\n",
    "plt.ylabel('Number of MS2 Loops')\n",
    "plt.legend(loc='best')\n",
    "print('MS2 loop agglomeration rate = ', (24 / np.argmax(ms)), 'loops per basepair')"
   ]
  },
  {
   "cell_type": "code",
   "execution_count": 77,
   "metadata": {},
   "outputs": [
    {
     "data": {
      "text/plain": [
       "18.25"
      ]
     },
     "execution_count": 77,
     "metadata": {},
     "output_type": "execute_result"
    }
   ],
   "source": [
    "ms[1005]"
   ]
  },
  {
   "cell_type": "code",
   "execution_count": 78,
   "metadata": {},
   "outputs": [],
   "source": [
    "\"\"\"Now, compute the binned loop Li function according to time spent on the gene\"\"\"\n",
    "Li_fn_seconds = []\n",
    "for i in range(len(ms)//sizePol):    \n",
    "    Li_fn_seconds.append(np.sum(ms[(sizePol*(i-1)+1) : (sizePol*i)]) / sizePol)\n",
    "    \n",
    "#for i in range(len(loopfn)//sizePol):\n",
    "if (i < len(ms) // sizePol):\n",
    "    #print(i)\n",
    "    Li_fn_seconds[i] = np.sum(ms[(sizePol*(i)+1):-1]) / sizePol"
   ]
  },
  {
   "cell_type": "code",
   "execution_count": 79,
   "metadata": {},
   "outputs": [
    {
     "data": {
      "text/plain": [
       "1.1357777777777778"
      ]
     },
     "execution_count": 79,
     "metadata": {},
     "output_type": "execute_result"
    }
   ],
   "source": [
    "np.sum(Li_fn_seconds) / 150"
   ]
  },
  {
   "cell_type": "code",
   "execution_count": 80,
   "metadata": {},
   "outputs": [
    {
     "data": {
      "text/plain": [
       "<matplotlib.legend.Legend at 0xe7f7a48dd8>"
      ]
     },
     "execution_count": 80,
     "metadata": {},
     "output_type": "execute_result"
    },
    {
     "data": {
      "image/png": "[encoded data removed]",
      "text/plain": [
       "<Figure size 432x288 with 1 Axes>"
      ]
     },
     "metadata": {},
     "output_type": "display_data"
    }
   ],
   "source": [
    "#plt.plot(np.asarray(Li_fn_seconds))\n",
    "plt.plot(Li_fn_seconds, label = 'Desponds\\' L(i)', color='g')\n",
    "plt.xlabel('binned time on gene')\n",
    "plt.ylabel('loop number')\n",
    "plt.legend(loc='best')"
   ]
  },
  {
   "cell_type": "code",
   "execution_count": 81,
   "metadata": {},
   "outputs": [],
   "source": [
    "\"\"\" create the array of MS2 loops, L, as a function of position, i\n",
    "    ***NOTE*** in Desponds et al: \"Li\" ~should really be written L(i) \n",
    "    (adapted from Desponds et al Matlab code) \"\"\"\n",
    "import scipy.io as spio\n",
    "def loopfn(despondsfile, tPol, k_elong, sizePol):\n",
    "    # load in Desponds et al's loop function\n",
    "    loopFn = spio.loadmat(despondsfile)\n",
    "    \n",
    "    ms = loopFn['ms']\n",
    "    ms = ms[0]              # stupid matLab puts an array inside an array\n",
    "    \n",
    "    \n",
    "    # make the L(i) function (array of values)\n",
    "    Li_fn = []\n",
    "    for i in range(len(ms)//sizePol):    \n",
    "        Li_fn.append(np.sum(ms[(sizePol*(i-1)+1) : (sizePol*i)]) / sizePol)\n",
    "    \n",
    "    #if (i < len(ms) // sizePol):\n",
    "        #Li_fn[i] = np.sum(ms[(sizePol*(i)+1):-1]) / sizePol\n",
    "        \n",
    "    return Li_fn"
   ]
  },
  {
   "cell_type": "code",
   "execution_count": 82,
   "metadata": {},
   "outputs": [],
   "source": [
    "def getAverageFlors(tracelist):\n",
    "    # compute average fluorescence for each raw simulated trace\n",
    "    avg_flors = []\n",
    "    for i in tracelist:\n",
    "        avg_flors.append(np.mean(i))   # stack in an array\n",
    "    return np.asarray(avg_flors)\n"
   ]
  },
  {
   "cell_type": "code",
   "execution_count": 83,
   "metadata": {},
   "outputs": [],
   "source": [
    "avg_flors = getAverageFlors(tracelist)"
   ]
  },
  {
   "cell_type": "code",
   "execution_count": 84,
   "metadata": {},
   "outputs": [
    {
     "data": {
      "text/plain": [
       "(array([10., 13., 15.,  8., 17., 12., 12.,  7.,  5.,  1.]),\n",
       " array([    0.        ,  2731.19478281,  5462.38956561,  8193.58434842,\n",
       "        10924.77913122, 13655.97391403, 16387.16869683, 19118.36347964,\n",
       "        21849.55826244, 24580.75304525, 27311.94782805]),\n",
       " <a list of 10 Patch objects>)"
      ]
     },
     "execution_count": 84,
     "metadata": {},
     "output_type": "execute_result"
    },
    {
     "data": {
      "image/png": "[encoded data removed]",
      "text/plain": [
       "<Figure size 432x288 with 1 Axes>"
      ]
     },
     "metadata": {},
     "output_type": "display_data"
    }
   ],
   "source": [
    "plt.hist(avg_flors)"
   ]
  },
  {
   "cell_type": "code",
   "execution_count": 85,
   "metadata": {},
   "outputs": [],
   "source": [
    "# fit for pon in a SIMPLE way\n",
    "def fitPon(tPol, k_elong, tracelist, loop_function):\n",
    "    despondsfile = 'standalone/therightL.mat'\n",
    "    tPol=6;                 # RNAP loading time\n",
    "    k_elong=25;             # Elongation rate\n",
    "    sizePol = tPol * k_elong     # Footprint, in basepairs, of polII\n",
    "\n",
    "    loops = loopfn(despondsfile, tPol, k_elong, sizePol)       # pull in loop function    \n",
    "    avg_flors = getAverageFlors(tracelist)\n",
    "\n",
    "    pon = np.mean(avg_flors / np.sum(loop_function)) \n",
    "    pon_std = np.std(avg_flors/ np.sum(loop_function)) \n",
    "\n",
    "    return pon,pon_std"
   ]
  },
  {
   "cell_type": "code",
   "execution_count": 86,
   "metadata": {},
   "outputs": [
    {
     "name": "stdout",
     "output_type": "stream",
     "text": [
      "pon          =  0.38245716456147716 \n",
      "pon standard deviation =  0.22082802515337535\n"
     ]
    }
   ],
   "source": [
    "tPol=6;                      # RNAP loading time\n",
    "k_elong=25;                  # Elongation rate\n",
    "sizePol = tPol * k_elong     # Footprint, in basepairs, of polII\n",
    "\n",
    "p_on,pon_std = fitPon(tPol, k_elong, tracelist, loop_function)\n",
    "print('pon          = ', p_on, '\\npon standard deviation = ', pon_std)"
   ]
  },
  {
   "cell_type": "code",
   "execution_count": 87,
   "metadata": {},
   "outputs": [],
   "source": [
    "# define our average fluorescence function according to Desponds et al's analytic model such that we can fit for p_on\n",
    "# P_on = <Fluorescence> / sum(loop function)\n",
    "def avg_flr_fn(average_fluorescence, p_on):\n",
    "        \n",
    "    # define parameters for Desponds Pon fitting\n",
    "    despondsfile = 'standalone/therightL.mat'\n",
    "    tPol=6;                 # RNAP loading time\n",
    "    k_elong=25;             # Elongation rate\n",
    "    sizePol = tPol * k_elong     # Footprint, in basepairs, of polII\n",
    "        \n",
    "    loops = loopfn(despondsfile, tPol, k_elong, sizePol)       # pull in loop function    \n",
    "    average_fluorescence = np.asarray(average_fluorescence)    # make into array\n",
    "    \n",
    "    # Divide by the FOOTPRINT in bp of one polII molecule.\n",
    "    # This ensures that we are in units of number (loops/(polII bin)) * (1/150 (bp/(polII bin))                                                       # final units: loops / bp\n",
    "    return p_on * np.sum(loops) / sizePol                    "
   ]
  },
  {
   "cell_type": "code",
   "execution_count": 88,
   "metadata": {},
   "outputs": [],
   "source": [
    "# Calculate the mean v_avg, and variance v^2_avg of fluorescence signal for autocorrelation normalization factor\n",
    "# v_avg is the average of the averages of each trace's intensity over the steady-state window. v_avg = mean(avg_fluorescence)\n",
    "# v^2_avg is the average of the squares of the averages of each trace's intensity. v^2_avg = mean(avg_fluorescence^2)\n",
    "\n",
    "def normFactor(average_fluorescence):\n",
    "    avg_flors = np.asarray(average_fluorescence)\n",
    "\n",
    "    v_avg = np.mean(avg_flors)        # calculate the mean of the flourescence\n",
    "    \n",
    "    f_sqs = np.zeros(len(avg_flors))\n",
    "    for i in range(len(avg_flors)):   # calculate the squares of all of the trace averages\n",
    "        f_sqs[i] = avg_flors[i]**2  \n",
    "\n",
    "    v_sq_avg = np.mean(f_sqs)             # calculate the second moments\n",
    "    \n",
    "    return v_sq_avg - v_avg**2"
   ]
  },
  {
   "cell_type": "code",
   "execution_count": 89,
   "metadata": {
    "scrolled": true
   },
   "outputs": [
    {
     "data": {
      "text/plain": [
       "41944331.052056745"
      ]
     },
     "execution_count": 89,
     "metadata": {},
     "output_type": "execute_result"
    }
   ],
   "source": [
    "normFactor(avg_flors)"
   ]
  },
  {
   "cell_type": "code",
   "execution_count": 90,
   "metadata": {},
   "outputs": [],
   "source": [
    "# now move on to fitting the autocorrelation function for the set of traces"
   ]
  },
  {
   "cell_type": "code",
   "execution_count": 91,
   "metadata": {},
   "outputs": [],
   "source": [
    "\"\"\"\"\n",
    "Autocorrelation function analysis for Two-State Model using Despond et al's (2016)\n",
    "parameters:\n",
    "    tPol: polII loading time\n",
    "    k_elong:  MS2 GFP loop elongation rate along gene\n",
    "    tPol:     polII loading time, assumed to load at every observation time\n",
    "              ***NOTE: this is subject to change since there may exist a blocking time,\n",
    "              or characteristic \"traffic jam\" time during polII loading ***\n",
    "    sizePol:  \"Footprint\" or size of polII in basepairs, along gene\n",
    "    \n",
    "    k_gfp:    gfp loop agglomeration rate such that L(t) = k_gfp*t, L(t) !> maxloops\n",
    "    maxloops: max number of gfp loops allowed in chain\n",
    "    \n",
    "    FITTING FOR:\n",
    "    ratesum: the inverse characteristic decay timescale for autocorrelation. Tells us how\n",
    "              similar the signal is to itself and can reveal burst characteristics\n",
    "              chartime = 1 / (k_on + k_off)\n",
    "              \n",
    "    Pon:      Probability that system is in \"ON\" state.\n",
    "    k_on:     given as 1/mu for exponential distribution of ON wait times\n",
    "    k_off:    1/mu for exponential distribution of OFF wait times\n",
    "\n",
    "    ***NOTE: k_on and k_off decoupled by Pon = k_on / (k_on + k_off)\n",
    "    \"\"\"\n",
    "\n",
    "\n",
    "def autocorr(t, chartime):  # take in parameters and t (signal data array index in seconds)\n",
    "    # define all needed parameters #\n",
    "    despondsfile = 'standalone/therightL.mat'\n",
    "    stepsize = 6            # time between observations, seconds\n",
    "    tPol=6;                 # polII loading time\n",
    "    k_elong=25;             # Elongation rate\n",
    "    sizePol = tPol * k_elong     # Footprint, in basepairs, of polII\n",
    "    \n",
    "    time = np.arange(len(t)) * stepsize\n",
    "    \n",
    "    tracelength = len(t)        # calculate from trace inputs\n",
    "    \n",
    "    # get the loop function\n",
    "    loops = loopfn(despondsfile, tPol, k_elong, sizePol)\n",
    "    \n",
    "    # do the Pon fitting (once I've written the function)\n",
    "    # pon,pon_upper,pon_lower = pon_fit()\n",
    "    \n",
    "    # FOR NOW:\n",
    "    #p_on = fitPon(tracelist)\n",
    "    p_on = 0.38\n",
    "    p_off = 1-p_on\n",
    "    \n",
    "    # compute normalization constant\n",
    "    avg_flors = getAverageFlors(tracelist)\n",
    "    normfactor = normFactor(avg_flors)\n",
    "\n",
    "    \n",
    "    # write analytic autocorrelation function according to Desponds et al:    \n",
    "    # chartime is defined as k_on + k_off\n",
    "    \n",
    "    delta = 1 - chartime    \n",
    "   \n",
    "       \n",
    "    # write a for loop to do the double sums to compute connected correlation:\n",
    "    \n",
    "    c_arr = []\n",
    "    \n",
    "    for t in range(len(time)):\n",
    "        sm0 = 0\n",
    "        for i in range(len(loops)):\n",
    "            for j in range(len(loops)):\n",
    "                sm0 += p_on*p_off*(loops[i] * loops[j] * np.exp((delta-1)*np.abs(t - j + i)))\n",
    "     \n",
    "        c_arr.append(sm0)\n",
    "    #plt.plot(c_arr)\n",
    "           \n",
    "    connected_corr = np.asarray(c_arr)    # the two-state connected correlation function\n",
    "    #return connected_corr / np.max(connected_corr)\n",
    "   \n",
    "    N = len(time)         # CONSTANT trace length\n",
    "    \n",
    "    # Add in the finite trace correction for the Ornstein-Uhlenbeck process    \n",
    "    # perform the summations\n",
    "    \n",
    "    # initialize corrected lists\n",
    "    corrected_full = []\n",
    "    Co = connected_corr[0]    # initial condition of connected correlation function\n",
    "        \n",
    "    # Now we're going to correct EVERY data point in the connected autocorrelation function\n",
    "    for r in range(len(connected_corr)):\n",
    "    \n",
    "        sm1 = 0    \n",
    "        for k in range(1,N):\n",
    "            sm1 += 2*(N - k)*connected_corr[k]\n",
    "    \n",
    "        sm2 = 0   \n",
    "        for j in range(1,r):\n",
    "            sm2 += 2*(r-j)*connected_corr[j]\n",
    "\n",
    "        sm3 = 0\n",
    "        for m in range(1,N):\n",
    "            sm3 += connected_corr[m] * (np.min(np.asarray([m+r, N])) - np.max(np.asarray([r, m])))\n",
    "    \n",
    "        # full correction\n",
    "        corrected_full.append((connected_corr[r] + \n",
    "                                    (1/N) *((1/N) - (2./(N-r))) * (N*Co + sm1)) + ((2/(N*(N-r))) * (r*Co + sm2 + sm3)))\n",
    "        \n",
    "    \n",
    "    normed = (normfactor)*np.asarray(corrected_full)\n",
    "    \n",
    "    return (normed / normed[1])"
   ]
  },
  {
   "cell_type": "code",
   "execution_count": 92,
   "metadata": {},
   "outputs": [],
   "source": [
    "t = np.arange(len(autoav))"
   ]
  },
  {
   "cell_type": "code",
   "execution_count": 93,
   "metadata": {},
   "outputs": [],
   "source": [
    "autoav_norm = autoav / np.max(autoav)\n",
    "normlist = []\n",
    "for i in autolist:\n",
    "    normlist.append(i / np.max(i))\n",
    "\n",
    "autostd_norm = np.nanstd(normlist, axis=0)[1:]\n"
   ]
  },
  {
   "cell_type": "code",
   "execution_count": null,
   "metadata": {},
   "outputs": [],
   "source": [
    "%%timeit\n",
    "\"\"\"\n",
    "When fitting the autocorrelation function within the standard deviation error range, we need to exclude the first point\n",
    "since the standard error here is zero (all autocorr functions normalized there). Otherwise, we get a divide by zero and \n",
    "can't fit the fuction\n",
    "\"\"\"\n",
    "from scipy.optimize import curve_fit\n",
    "popt,pcov = curve_fit(autocorr, t[0:], autoav[0:], sigma=autostd[0:])\n",
    "\n",
    "ratesum = popt[0]\n",
    "\n",
    "kon_fit = ratesum*p_on\n",
    "koff_fit = ratesum - kon_fit\n",
    "chrtime = 1 / ratesum\n",
    "\n"
   ]
  },
  {
   "cell_type": "code",
   "execution_count": 98,
   "metadata": {},
   "outputs": [
    {
     "name": "stdout",
     "output_type": "stream",
     "text": [
      "k_on + k_off              =  0.02696416784578445 s^-1\n",
      "k_on                      =  0.010312639179058475\n",
      "k_off                     =  0.016651528666725975\n",
      "t_polII_block             =  6 seconds\n",
      "characteristic timescale  =  37.08625482971613 time units\n",
      "covariance                =  7.900312519498018e-07\n"
     ]
    }
   ],
   "source": [
    "print(\"k_on + k_off              = \", ratesum, 's^-1')\n",
    "print(\"k_on                      = \", kon_fit)\n",
    "print(\"k_off                     = \", koff_fit)\n",
    "print(\"t_polII_block             =  6 seconds\")\n",
    "print(\"characteristic timescale  = \", chrtime, 'time units')\n",
    "print(\"covariance                = \", pcov[0][0])"
   ]
  },
  {
   "cell_type": "code",
   "execution_count": 99,
   "metadata": {},
   "outputs": [
    {
     "data": {
      "image/png": "[encoded data removed]",
      "text/plain": [
       "<Figure size 720x360 with 1 Axes>"
      ]
     },
     "metadata": {},
     "output_type": "display_data"
    }
   ],
   "source": [
    "fig,ax = plt.subplots(1, 1, figsize=(10,5), sharex=True)\n",
    "\n",
    "ax.plot(t, autocorr(t,chartime=popt[0]), label='analytic model best fit')\n",
    "#for i in autolist[1:]:\n",
    "    #plt.plot(t, i[1:], color='b', alpha=0.1)\n",
    "\n",
    "ax.scatter(t[::10],autoav[::10], marker='.', \n",
    "                   color='r', label = 'mean simulated data autocorrelation')   # show the mean of our original dataset in red\n",
    "#plt.plot(np.arange(len(autoav)),dat, color='r', label = 'mean data autocorrelation')   # show the mean of our original dataset in red\n",
    "ax.errorbar(x=t, y=autoav, yerr=(autostd, autostd), \n",
    "                        ecolor='b', alpha=0.2, label = r'$\\sigma$ standard deviation from mean')  \n",
    "plt.legend(loc=\"best\")\n",
    "ax.set_ylim(-2, 2)\n",
    "ax.set_xlabel(r'Wait time $\\tau$ (seconds)')\n",
    "ax.set_ylabel(r'autocorrelation M($\\tau$)')\n",
    "plt.text(x=0.07, y=-1.8, \n",
    "             s='Simulated Parameters \\n\\n$k_{on}$ =' + str(k_on) +\n",
    "                     '\\n$k_{off}$ = ' + str(k_off) +  '\\n$k_{elong}$ = '+ str(k_elong) \n",
    "                             + ' bp/sec \\nobservation time = '+ str(stepsize) + ' seconds')\n",
    "plt.text(x=120, y=-1.8, s='Analytic fitted parameters \\n\\n$k_{on}$ = ' \n",
    "                                 + str(kon_fit) + '\\n$k_{off}$ = ' + str(koff_fit))\n",
    "plt.show()"
   ]
  },
  {
   "cell_type": "code",
   "execution_count": 179,
   "metadata": {},
   "outputs": [],
   "source": [
    "# Do a more packaged fitting with written functions. Bayesian fitting, assuming Gaussian error distributed \n",
    "# about each autocorrelated point, conservatively approximated by the standard error of autocorrelation"
   ]
  },
  {
   "cell_type": "code",
   "execution_count": 56,
   "metadata": {},
   "outputs": [],
   "source": [
    "\"\"\"\"\n",
    "Autocorrelation function analysis for Two-State Model using Despond et al's (2016)\n",
    "parameters:\n",
    "    tPol: polII loading time\n",
    "    k_elong:  MS2 GFP loop elongation rate along gene\n",
    "    tPol:     polII loading time, assumed to load at every observation time\n",
    "              ***NOTE: this is subject to change since there may exist a blocking time,\n",
    "              or characteristic \"traffic jam\" time during polII loading ***\n",
    "    sizePol:  \"Footprint\" or size of polII in basepairs, along gene\n",
    "    \n",
    "    k_gfp:    gfp loop agglomeration rate such that L(t) = k_gfp*t, L(t) !> maxloops\n",
    "    maxloops: max number of gfp loops allowed in chain\n",
    "    \n",
    "    FITTING FOR:\n",
    "    ratesum: the inverse characteristic decay timescale for autocorrelation. Tells us how\n",
    "              similar the signal is to itself and can reveal burst characteristics\n",
    "              chartime = 1 / (k_on + k_off)\n",
    "              \n",
    "    Pon:      Probability that system is in \"ON\" state.\n",
    "    k_on:     given as 1/mu for exponential distribution of ON wait times\n",
    "    k_off:    1/mu for exponential distribution of OFF wait times\n",
    "\n",
    "    ***NOTE: k_on and k_off decoupled by Pon = k_on / (k_on + k_off)\n",
    "    \"\"\"\n",
    "\n",
    "\n",
    "def autocorrModel(t, ratesum):  # take in parameters and t (signal data array index in seconds)\n",
    "    # define all needed parameters #\n",
    "    despondsfile = 'standalone/therightL.mat'\n",
    "    stepsize = 6            # time between observations, seconds\n",
    "    tPol=6;                 # polII loading time\n",
    "    k_elong=25;             # Elongation rate\n",
    "    sizePol = tPol * k_elong     # Footprint, in basepairs, of polII\n",
    "    \n",
    "    time = np.arange(len(t)) * stepsize\n",
    "    \n",
    "    tracelength = len(t)        # calculate from trace inputs\n",
    "    \n",
    "    # get the loop function\n",
    "    loops = loopfn(despondsfile, tPol, k_elong, sizePol)\n",
    "    \n",
    "    # do the Pon fitting (once I've written the function)\n",
    "    # pon,pon_upper,pon_lower = pon_fit()\n",
    "    \n",
    "    # FOR NOW:\n",
    "    #p_on = fitPon(tracelist)\n",
    "    p_on = 0.41\n",
    "    p_off = 1-p_on\n",
    "    \n",
    "    # compute normalization constant\n",
    "    avg_flors = getAverageFlors(tracelist)\n",
    "    normfactor = normFactor(avg_flors)\n",
    "\n",
    "    \n",
    "    # write analytic autocorrelation function according to Desponds et al:    \n",
    "    # chartime is defined as k_on + k_off\n",
    "    \n",
    "    delta = 1 - ratesum    \n",
    "   \n",
    "       \n",
    "    # write a for loop to do the double sums to compute connected correlation:\n",
    "    \n",
    "    c_arr = []\n",
    "    \n",
    "    for t in range(len(time)):\n",
    "        sm0 = 0\n",
    "        for i in range(len(loops)):\n",
    "            for j in range(len(loops)):\n",
    "                sm0 += p_on*p_off*(loops[i] * loops[j] * np.exp((delta-1)*np.abs(t - j + i)))\n",
    "     \n",
    "        c_arr.append(sm0)\n",
    "    #plt.plot(c_arr)\n",
    "           \n",
    "    connected_corr = np.asarray(c_arr)    # the two-state connected correlation function\n",
    "    #return connected_corr / np.max(connected_corr)\n",
    "   \n",
    "    N = len(time)         # CONSTANT trace length\n",
    "    \n",
    "    # Add in the finite trace correction for the Ornstein-Uhlenbeck process    \n",
    "    # perform the summations\n",
    "    \n",
    "    # initialize corrected lists\n",
    "    corrected_full = []\n",
    "    Co = connected_corr[0]    # initial condition of connected correlation function\n",
    "        \n",
    "    # Now we're going to correct EVERY data point in the connected autocorrelation function\n",
    "    for r in range(len(connected_corr)):\n",
    "    \n",
    "        sm1 = 0    \n",
    "        for k in range(1,N):\n",
    "            sm1 += 2*(N - k)*connected_corr[k]\n",
    "    \n",
    "        sm2 = 0   \n",
    "        for j in range(1,r):\n",
    "            sm2 += 2*(r-j)*connected_corr[j]\n",
    "\n",
    "        sm3 = 0\n",
    "        for m in range(1,N):\n",
    "            sm3 += connected_corr[m] * (np.min(np.asarray([m+r, N])) - np.max(np.asarray([r, m])))\n",
    "    \n",
    "        # full correction\n",
    "        corrected_full.append((connected_corr[r] + \n",
    "                                    (1/N) *((1/N) - (2./(N-r))) * (N*Co + sm1)) + ((2/(N*(N-r))) * (r*Co + sm2 + sm3)))\n",
    "        \n",
    "    \n",
    "    normed = (normfactor)*np.asarray(corrected_full)\n",
    "    \n",
    "    return (normed/ normed[1])"
   ]
  },
  {
   "cell_type": "code",
   "execution_count": 57,
   "metadata": {},
   "outputs": [
    {
     "name": "stdout",
     "output_type": "stream",
     "text": [
      "0.4208111032636052\n"
     ]
    }
   ],
   "source": [
    "\"\"\" For this fit, we'll use the square of the standard error of the set of trace \n",
    "autocorrelations as our (conservative) inverse-variance. For this, we take the standard deviation\n",
    "between each trace's data and the mean at each autocorrelated time point . \"\"\"\n",
    "y_err = autostd[1::30]   # our error (sigma) in y-data\n",
    "y = autoav[1::30]        # our y-data that we wish to fit\n",
    "t = t             # time delay x-axis of autocorrelation\n",
    "\n",
    "tPol=6;                      # RNAP loading time\n",
    "k_elong=25;                  # Elongation rate\n",
    "sizePol = tPol * k_elong     # Footprint, in basepairs, of polII\n",
    "\n",
    "p_on,pon_var = fitPon(tPol, k_elong, tracelist)\n",
    "\n",
    "print(p_on)\n",
    "\n",
    "# pars = [chartime, p_on], where p_on is held fixed."
   ]
  },
  {
   "cell_type": "code",
   "execution_count": 58,
   "metadata": {},
   "outputs": [],
   "source": [
    "class AutoCorrelationModel(object):\n",
    "\n",
    "    def __init__(self, t, y, y_err):\n",
    "        \"\"\"\n",
    "        What we're going to do is put all of the computation, from traces to \n",
    "        average autocorrelation, into one object for fitting\n",
    "        \"\"\"\n",
    "        self.t = np.asarray(t)\n",
    "        self.y = np.asarray(y)\n",
    "        self.y_err = np.asarray(y_err)\n",
    "        #self.p_on = p_on\n",
    "        \n",
    "    def ln_likelihood(self, ratesum):\n",
    "        N = len(self.y)     # number of data points\n",
    "        dy = self.y - autocorrModel(self.t, ratesum) # difference in analytic model and data\n",
    "        ivar = 1 / self.y_err**2                       # inverse-variance dependent on the sigmas of \n",
    "                                                       # trace autocorrelations\n",
    "        return -0.5 * (N*np.log(2*np.pi) + np.sum(2*np.log(self.y_err)) + np.sum(dy**2 * ivar))\n",
    "        \n",
    "        \n",
    "    def ln_prior(self, ratesum):\n",
    "        ratesum = ratesum    # might add more parameters later\n",
    "        ln_prior_val = 0.      # to be added to \n",
    "        \n",
    "        if ratesum < 0 or ratesum > 100.: \n",
    "            return -np.inf     # constrain chartime in sampling\n",
    "        else:\n",
    "            ln_prior_val += np.log(1E-2)  # normalization of log(1/100)\n",
    "            \n",
    "        return ln_prior_val\n",
    "    \n",
    "    def ln_posterior(self, ratesum):\n",
    "        \"\"\"\n",
    "        log of posterior pdf is just the sum of ln(likelihood) + ln(prior)\n",
    "        \"\"\"\n",
    "        lnp = self.ln_prior(ratesum)\n",
    "        if np.isinf(lnp):  # stop if prior is infinite\n",
    "            return lnp\n",
    "        \n",
    "        lnL = self.ln_likelihood(ratesum)\n",
    "        lnprob = lnp + lnL\n",
    "        \n",
    "        if np.isnan(lnprob):\n",
    "            return -np.inf\n",
    "        \n",
    "        return lnprob\n",
    "    \n",
    "    def __call__(self, ratesum):\n",
    "        return self.ln_posterior(ratesum)\n",
    "        "
   ]
  },
  {
   "cell_type": "code",
   "execution_count": 59,
   "metadata": {},
   "outputs": [],
   "source": [
    "automodel = AutoCorrelationModel(t, y, y_err)"
   ]
  },
  {
   "cell_type": "code",
   "execution_count": 61,
   "metadata": {},
   "outputs": [],
   "source": [
    "# Now implement Markov Chain Monte Carlo sampling\n",
    "def sample_proposal(*sigmas):\n",
    "    return np.random.normal(0., sigmas)\n",
    "\n",
    "def run_metropolis_hastings(p0, n_steps, model, proposal_sigmas):\n",
    "    \"\"\"\n",
    "    Run a Metropolis-Hastings MCMC sampler to generate samples from the input\n",
    "    log-posterior function, starting from some initial parameter vector.\n",
    "    \n",
    "    Parameters\n",
    "    ----------\n",
    "    p0 : iterable\n",
    "        Initial parameter vector.\n",
    "    n_steps : int\n",
    "        Number of steps to run the sampler for.\n",
    "    model : StraightLineModel instance (or subclass)\n",
    "        A callable object that takes a parameter vector and computes \n",
    "        the log of the posterior pdf.\n",
    "    proposal_sigmas : list, array\n",
    "        A list of standard-deviations passed to the sample_proposal \n",
    "        function. These are like STEP SIZES in each of the parameters.\n",
    "    \"\"\"\n",
    "    \n",
    "    p0 = np.array(p0)\n",
    "    if len(proposal_sigmas) != len(p0):\n",
    "        raise ValueError(\"Proposal distribution should have same shape as parameter vector.\")\n",
    "\n",
    "        \n",
    "    # the objects we'll fill and return:\n",
    "    chain = np.zeros((n_steps, len(p0))) # parameter values at each step\n",
    "    ln_probs = np.zeros(n_steps) # log-probability values at each step\n",
    "    \n",
    "    # we'll keep track of how many steps we accept to compute the acceptance fraction                        \n",
    "    n_accept = 0 \n",
    "    \n",
    "    # evaluate the log-posterior at the initial position and store starting position in chain\n",
    "    ln_probs[0] = model(p0)\n",
    "    chain[0] = p0\n",
    "    \n",
    "    # loop through the number of steps requested and run MCMC\n",
    "    for i in range(1,n_steps):\n",
    "        # proposed new parameters\n",
    "        step = sample_proposal(*proposal_sigmas)\n",
    "        new_p = chain[i-1] + step\n",
    "        \n",
    "        # compute log-posterior at new parameter values\n",
    "        new_ln_prob = model(new_p)\n",
    "        \n",
    "        # log of the ratio of the new log-posterior to the previous log-posterior value\n",
    "        ln_prob_ratio = new_ln_prob - ln_probs[i-1]\n",
    "        \n",
    "        if (ln_prob_ratio > 0) or (ln_prob_ratio > np.log(np.random.uniform())):\n",
    "            chain[i] = new_p\n",
    "            ln_probs[i] = new_ln_prob\n",
    "            n_accept += 1\n",
    "            \n",
    "        else:\n",
    "            chain[i] = chain[i-1]\n",
    "            ln_probs[i] = ln_probs[i-1]\n",
    "    \n",
    "    acc_frac = n_accept / n_steps\n",
    "    return chain, ln_probs, acc_frac\n",
    "    "
   ]
  },
  {
   "cell_type": "code",
   "execution_count": null,
   "metadata": {},
   "outputs": [],
   "source": []
  },
  {
   "cell_type": "code",
   "execution_count": 63,
   "metadata": {
    "scrolled": true
   },
   "outputs": [
    {
     "name": "stdout",
     "output_type": "stream",
     "text": [
      "Acceptance fraction: 95.6%\n"
     ]
    }
   ],
   "source": [
    "p0 = [0.01]\n",
    "chain,_,acc_frac = run_metropolis_hastings(p0, n_steps=1812, model=automodel, \n",
    "                                           proposal_sigmas=[0.06])\n",
    "print(\"Acceptance fraction: {:.1%}\".format(acc_frac))"
   ]
  },
  {
   "cell_type": "code",
   "execution_count": 64,
   "metadata": {},
   "outputs": [
    {
     "name": "stderr",
     "output_type": "stream",
     "text": [
      "No handles with labels found to put in legend.\n"
     ]
    },
    {
     "data": {
      "image/png": "[encoded data removed]",
      "text/plain": [
       "<Figure size 720x360 with 1 Axes>"
      ]
     },
     "metadata": {},
     "output_type": "display_data"
    }
   ],
   "source": [
    "fig,ax = plt.subplots(len(p0), 1, figsize=(10,5), sharex=True)\n",
    "\n",
    "for i in range(len(p0)):\n",
    "    ax.plot(chain[:,i], marker='', drawstyle='steps')\n",
    "\n",
    "ax.legend(loc='best')\n",
    "ax.set_ylabel('$kon+koff$')\n",
    "\n",
    "fig.tight_layout()"
   ]
  },
  {
   "cell_type": "code",
   "execution_count": 65,
   "metadata": {},
   "outputs": [
    {
     "data": {
      "text/plain": [
       "(1812, 1)"
      ]
     },
     "execution_count": 65,
     "metadata": {},
     "output_type": "execute_result"
    }
   ],
   "source": [
    "chain.shape"
   ]
  },
  {
   "cell_type": "code",
   "execution_count": 66,
   "metadata": {},
   "outputs": [
    {
     "data": {
      "text/plain": [
       "(224, 1)"
      ]
     },
     "execution_count": 66,
     "metadata": {},
     "output_type": "execute_result"
    }
   ],
   "source": [
    "good_samples = chain[20::8]\n",
    "good_samples.shape"
   ]
  },
  {
   "cell_type": "code",
   "execution_count": 67,
   "metadata": {},
   "outputs": [
    {
     "data": {
      "text/latex": [
       "$kon + koff=2.10^{+0.32}_{-0.46}\\quad $"
      ],
      "text/plain": [
       "<IPython.core.display.Latex object>"
      ]
     },
     "execution_count": 67,
     "metadata": {},
     "output_type": "execute_result"
    }
   ],
   "source": [
    "from IPython import display\n",
    "low,med,hi = np.percentile(good_samples, [16, 50, 84], axis=0)\n",
    "upper, lower = hi-med, med-low\n",
    "\n",
    "disp_str = \"\"\n",
    "for i,name in enumerate(['kon + koff']):\n",
    "    fmt_str = '{name}={val:.2f}^{{+{plus:.2f}}}_{{-{minus:.2f}}}'\n",
    "    disp_str += fmt_str.format(name=name, val=med[i], plus=upper[i], minus=lower[i])\n",
    "    disp_str += r'\\quad '\n",
    "    \n",
    "disp_str = \"${}$\".format(disp_str)\n",
    "display.Latex(data=disp_str)"
   ]
  },
  {
   "cell_type": "code",
   "execution_count": 68,
   "metadata": {},
   "outputs": [
    {
     "ename": "TypeError",
     "evalue": "autocorrModel() got an unexpected keyword argument 'p_on'",
     "output_type": "error",
     "traceback": [
      "\u001b[1;31m---------------------------------------------------------------------------\u001b[0m",
      "\u001b[1;31mTypeError\u001b[0m                                 Traceback (most recent call last)",
      "\u001b[1;32m<ipython-input-68-3aa03fbf7a19>\u001b[0m in \u001b[0;36m<module>\u001b[1;34m()\u001b[0m\n\u001b[0;32m      1\u001b[0m \u001b[0mfig\u001b[0m\u001b[1;33m,\u001b[0m\u001b[0max\u001b[0m \u001b[1;33m=\u001b[0m \u001b[0mplt\u001b[0m\u001b[1;33m.\u001b[0m\u001b[0msubplots\u001b[0m\u001b[1;33m(\u001b[0m\u001b[0mlen\u001b[0m\u001b[1;33m(\u001b[0m\u001b[0mp0\u001b[0m\u001b[1;33m)\u001b[0m\u001b[1;33m,\u001b[0m \u001b[1;36m1\u001b[0m\u001b[1;33m,\u001b[0m \u001b[0mfigsize\u001b[0m\u001b[1;33m=\u001b[0m\u001b[1;33m(\u001b[0m\u001b[1;36m10\u001b[0m\u001b[1;33m,\u001b[0m\u001b[1;36m5\u001b[0m\u001b[1;33m)\u001b[0m\u001b[1;33m,\u001b[0m \u001b[0msharex\u001b[0m\u001b[1;33m=\u001b[0m\u001b[1;32mTrue\u001b[0m\u001b[1;33m)\u001b[0m\u001b[1;33m\u001b[0m\u001b[0m\n\u001b[0;32m      2\u001b[0m \u001b[1;33m\u001b[0m\u001b[0m\n\u001b[1;32m----> 3\u001b[1;33m \u001b[0max\u001b[0m\u001b[1;33m.\u001b[0m\u001b[0mplot\u001b[0m\u001b[1;33m(\u001b[0m\u001b[0mt\u001b[0m\u001b[1;33m*\u001b[0m\u001b[1;36m6\u001b[0m\u001b[1;33m,\u001b[0m \u001b[0mautocorrModel\u001b[0m\u001b[1;33m(\u001b[0m\u001b[0mt\u001b[0m\u001b[1;33m,\u001b[0m\u001b[0mratesum\u001b[0m\u001b[1;33m=\u001b[0m\u001b[0mmed\u001b[0m\u001b[1;33m,\u001b[0m \u001b[0mp_on\u001b[0m\u001b[1;33m=\u001b[0m\u001b[0mp_on\u001b[0m\u001b[1;33m)\u001b[0m\u001b[1;33m,\u001b[0m \u001b[0mlabel\u001b[0m\u001b[1;33m=\u001b[0m\u001b[1;34m'analytic model best fit'\u001b[0m\u001b[1;33m)\u001b[0m\u001b[1;33m\u001b[0m\u001b[0m\n\u001b[0m\u001b[0;32m      4\u001b[0m \u001b[1;31m#for i in autolist[1:]:\u001b[0m\u001b[1;33m\u001b[0m\u001b[1;33m\u001b[0m\u001b[0m\n\u001b[0;32m      5\u001b[0m     \u001b[1;31m#plt.plot(t, i[1:], color='b', alpha=0.1)\u001b[0m\u001b[1;33m\u001b[0m\u001b[1;33m\u001b[0m\u001b[0m\n",
      "\u001b[1;31mTypeError\u001b[0m: autocorrModel() got an unexpected keyword argument 'p_on'"
     ]
    },
    {
     "data": {
      "image/png": "[encoded data removed]",
      "text/plain": [
       "<Figure size 720x360 with 1 Axes>"
      ]
     },
     "metadata": {},
     "output_type": "display_data"
    }
   ],
   "source": [
    "fig,ax = plt.subplots(len(p0), 1, figsize=(10,5), sharex=True)\n",
    "\n",
    "ax.plot(t*6, autocorrModel(t,ratesum=med, p_on=p_on), label='analytic model best fit')\n",
    "#for i in autolist[1:]:\n",
    "    #plt.plot(t, i[1:], color='b', alpha=0.1)\n",
    "\n",
    "ax.scatter(t*6,autoav_norm, marker='.', color='r', label = 'mean data autocorrelation')   # show the mean of our original dataset in red\n",
    "#plt.plot(np.arange(len(autoav)),dat, color='r', label = 'mean data autocorrelation')   # show the mean of our original dataset in red\n",
    "ax.errorbar(x=t*6, y=autoav_norm, yerr=(autostd, autostd), ecolor='b', alpha=0.2, label = r'desponds data $\\sigma$ standard error')  \n",
    "plt.legend()\n",
    "ax.set_xlabel(r'Wait time $\\tau$')\n",
    "ax.set_ylabel(r'autocorrelation M($\\tau$)')\n",
    "plt.show()"
   ]
  },
  {
   "cell_type": "code",
   "execution_count": null,
   "metadata": {},
   "outputs": [],
   "source": []
  }
 ],
 "metadata": {
  "kernelspec": {
   "display_name": "Python 3",
   "language": "python",
   "name": "python3"
  },
  "language_info": {
   "codemirror_mode": {
    "name": "ipython",
    "version": 3
   },
   "file_extension": ".py",
   "mimetype": "text/x-python",
   "name": "python",
   "nbconvert_exporter": "python",
   "pygments_lexer": "ipython3",
   "version": "3.6.5"
  }
 },
 "nbformat": 4,
 "nbformat_minor": 2
}

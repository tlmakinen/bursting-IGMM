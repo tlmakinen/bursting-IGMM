{
 "cells": [
  {
   "cell_type": "code",
   "execution_count": 1,
   "metadata": {},
   "outputs": [],
   "source": [
    "# What we aim to do here is numerically simulate a package of gfp molecule signal linked to a stochastically-\n",
    "# varying promoter state in a gene. The idea is that if we tweak our parameters in our numerical model, we \n",
    "# can then fit the numerical model to our actual fly embryo data, in order to be able to say something about\n",
    "# how this gene is turned on."
   ]
  },
  {
   "cell_type": "code",
   "execution_count": 2,
   "metadata": {},
   "outputs": [],
   "source": [
    "import numpy as np\n",
    "import matplotlib.pyplot as plt"
   ]
  },
  {
   "cell_type": "code",
   "execution_count": 3,
   "metadata": {},
   "outputs": [],
   "source": [
    "import gfp_signal\n",
    "from telegraph import exponential"
   ]
  },
  {
   "cell_type": "code",
   "execution_count": 4,
   "metadata": {},
   "outputs": [],
   "source": [
    "# Simulate a transcription promoter using my exponentially-distributed wait time telegraph signal and\n",
    "# my simulation of GFP agglomeration following an \"ON\" or \"OFF\" prompt\n",
    "\n",
    "# make the system more likely to linger in off stage: choose k_off to be less than k_on such that\n",
    "#                       mean_off = 1.0 / k_off   >    1.0 / k_on\n",
    "k_on = 0.03\n",
    "k_off = 0.03  \n",
    "duration = 555 # seconds\n",
    "stepsize = 3   # seconds / step\n",
    "\n",
    "tel = exponential(k_on, k_off, duration, stepsize)\n",
    "\n",
    "promoter_sig = tel.signal"
   ]
  },
  {
   "cell_type": "code",
   "execution_count": 5,
   "metadata": {},
   "outputs": [
    {
     "data": {
      "text/plain": [
       "[<matplotlib.lines.Line2D at 0x68447c4898>]"
      ]
     },
     "execution_count": 5,
     "metadata": {},
     "output_type": "execute_result"
    },
    {
     "data": {
      "image/png": "[encoded data removed]",
      "text/plain": [
       "<Figure size 432x288 with 1 Axes>"
      ]
     },
     "metadata": {},
     "output_type": "display_data"
    }
   ],
   "source": [
    "plt.plot(promoter_sig, color='k')"
   ]
  },
  {
   "cell_type": "code",
   "execution_count": 6,
   "metadata": {},
   "outputs": [
    {
     "data": {
      "text/plain": [
       "0.518918918918919"
      ]
     },
     "execution_count": 6,
     "metadata": {},
     "output_type": "execute_result"
    }
   ],
   "source": [
    "sum(promoter_sig) / len(promoter_sig)"
   ]
  },
  {
   "cell_type": "code",
   "execution_count": 7,
   "metadata": {},
   "outputs": [],
   "source": [
    "# Now add the numerically-simulated agglomeration of GFP stem-loops which generate the fluorescence signal we see\n",
    "# parameters\n",
    "sig = promoter_sig\n",
    "k_gfp = 3       # gfp molecules / second\n",
    "cts = 1000      # counts per gfp molecule\n",
    "k_polII = 1     # how many polII's started per second\n",
    "max_loops = 24  # max number of gfp loops that attach to each polII site\n",
    "\n",
    "gfp = gfp_signal.gfp_signal(telegraph=sig, k_gfp=k_gfp, k_polII=k_polII, cts_per_gfp=cts, max_loops=max_loops, stepsize=3)"
   ]
  },
  {
   "cell_type": "code",
   "execution_count": 8,
   "metadata": {},
   "outputs": [
    {
     "data": {
      "text/plain": [
       "[<matplotlib.lines.Line2D at 0x6844a6e4a8>]"
      ]
     },
     "execution_count": 8,
     "metadata": {},
     "output_type": "execute_result"
    },
    {
     "data": {
      "image/png": "[encoded data removed]",
      "text/plain": [
       "<Figure size 432x288 with 1 Axes>"
      ]
     },
     "metadata": {},
     "output_type": "display_data"
    }
   ],
   "source": [
    "plt.plot(gfp.counts, color='g')"
   ]
  },
  {
   "cell_type": "code",
   "execution_count": 9,
   "metadata": {},
   "outputs": [],
   "source": [
    "def autocorrelation (x) :\n",
    "    \"\"\"\n",
    "    Compute the autocorrelation of the signal, based on the properties of the\n",
    "    power spectral density of the signal.\n",
    "    \"\"\"\n",
    "    xp = x-np.mean(x)\n",
    "    f = np.fft.fft(xp)\n",
    "    p = np.array([np.real(v)**2+np.imag(v)**2 for v in f])\n",
    "    pi = np.fft.ifft(p)\n",
    "    return np.real(pi)[:x.size/2]/np.sum(xp**2)"
   ]
  },
  {
   "cell_type": "code",
   "execution_count": 329,
   "metadata": {},
   "outputs": [],
   "source": [
    "# Now let's simulate this ~80 times to create a package of traces we'd expect from actual data.\n",
    "# Parameters:\n",
    "k_on = 0.003\n",
    "k_off = 0.03 \n",
    "duration = 575   # seconds\n",
    "stepsize = 3     # seconds / step\n",
    "\n",
    "k_gfp = 1./6      # gfp chain elongation rate\n",
    "cts = 1000       # counts per gfp molecule\n",
    "k_polII = 1      # how many polII's started per second\n",
    "max_loops = 24   # max number of gfp loops that attach to each polII site\n",
    "\n",
    "\n",
    "num = 150               # number of traces in our simulated dataset\n",
    "auto_traces = []       # empty list of autocorrelation arrays\n",
    "traces = []            # empty list of traces \n",
    "normtraces = []     # normed traces\n",
    "\n",
    "for i in range(num):\n",
    "    tel = exponential(k_on, k_off, duration, stepsize)  # create a new signal every time      \n",
    "    gfp = gfp_signal.gfp_signal(telegraph=tel.signal, k_gfp=k_gfp, k_polII=k_polII, cts_per_gfp=cts, max_loops=max_loops, stepsize=3)\n",
    "    \n",
    "    trace = np.asarray(gfp.norm) \n",
    "    norm_trace = np.asarray(gfp.norm) #- np.mean(gfp.norm) # subtract mean fluorescence from each trace as in Desponds et al\n",
    "    # (this should get rid of nucleus-to-nucleus variability)\n",
    "    \n",
    "    traces.append(trace)\n",
    "    normtraces.append(norm_trace)\n",
    "      \n",
    "    auto_trace = np.correlate(norm_trace, norm_trace, 'same')\n",
    "    #auto_traces.append(auto_trace / (np.std(norm_trace) * np.std(norm_trace)))   # divide each auto trace by the standard deviation squared to normalize\n",
    "    \n",
    "    automax = np.max(auto_trace)\n",
    "    if automax <= 0:\n",
    "        automax = 1\n",
    "    \n",
    "    auto_traces.append(auto_trace / np.max(auto_trace))   # divide each auto trace by its maximum to normalize to 1."
   ]
  },
  {
   "cell_type": "code",
   "execution_count": 330,
   "metadata": {},
   "outputs": [
    {
     "data": {
      "image/png": "[encoded data removed]",
      "text/plain": [
       "<Figure size 432x288 with 1 Axes>"
      ]
     },
     "metadata": {},
     "output_type": "display_data"
    }
   ],
   "source": [
    "plt.plot(traces[8])\n",
    "plt.show()"
   ]
  },
  {
   "cell_type": "code",
   "execution_count": 331,
   "metadata": {},
   "outputs": [
    {
     "name": "stdout",
     "output_type": "stream",
     "text": [
      "mean fluorescence of trace 8 = 233.4240837696335\n"
     ]
    }
   ],
   "source": [
    "print(\"mean fluorescence of trace 8 = \" + str(np.mean(traces[8])))"
   ]
  },
  {
   "cell_type": "code",
   "execution_count": 332,
   "metadata": {},
   "outputs": [],
   "source": [
    "# loop function that describes GFP MS2 loop aggregation\n",
    "def loop_fn(maxloops, gfp_elong):\n",
    "    return np.arange(1, maxloops+1, gfp_elong).astype(int)  "
   ]
  },
  {
   "cell_type": "code",
   "execution_count": 333,
   "metadata": {},
   "outputs": [],
   "source": [
    "# define our average fluorescence function according to Desponds et al's analytic model such that we can fit for p_on\n",
    "# P_on = <Fluorescence> / sum(loop function)\n",
    "def avg_flr(trace, p_on):\n",
    "    maxloops = 24\n",
    "    gfp_elong = 1./6\n",
    "    \n",
    "    loop = loop_fn(maxloops, gfp_elong)    \n",
    "    trace = np.asarray(trace)\n",
    "    \n",
    "    return p_on * np.sum(loop)"
   ]
  },
  {
   "cell_type": "code",
   "execution_count": 334,
   "metadata": {},
   "outputs": [],
   "source": [
    "# compute average fluorescence for each raw simulated trace\n",
    "avg_flors = []\n",
    "for i in traces:\n",
    "    avg_flors.append(np.mean(i))\n",
    "np.asarray(avg_flors);"
   ]
  },
  {
   "cell_type": "code",
   "execution_count": 335,
   "metadata": {},
   "outputs": [],
   "source": [
    "# give us an easy range to fit over\n",
    "x = np.arange(len(avg_flors))"
   ]
  },
  {
   "cell_type": "code",
   "execution_count": 336,
   "metadata": {},
   "outputs": [
    {
     "data": {
      "text/plain": [
       "<matplotlib.collections.PathCollection at 0x68468be320>"
      ]
     },
     "execution_count": 336,
     "metadata": {},
     "output_type": "execute_result"
    },
    {
     "data": {
      "image/png": "[encoded data removed]",
      "text/plain": [
       "<Figure size 432x288 with 1 Axes>"
      ]
     },
     "metadata": {},
     "output_type": "display_data"
    }
   ],
   "source": [
    "plt.scatter(x, avg_flors)"
   ]
  },
  {
   "cell_type": "code",
   "execution_count": null,
   "metadata": {},
   "outputs": [],
   "source": []
  },
  {
   "cell_type": "code",
   "execution_count": 337,
   "metadata": {},
   "outputs": [
    {
     "name": "stdout",
     "output_type": "stream",
     "text": [
      "Average fitted P_on for trace package = [0.13209127]\n"
     ]
    }
   ],
   "source": [
    "# do a multiple linear regression fitting for the constant parameter, p_on.\n",
    "from scipy.optimize import curve_fit\n",
    "popt_pon,_ = curve_fit(avg_flr, x, ydata=avg_flors)\n",
    "print(\"Average fitted P_on for trace package = \" + str(popt_pon))"
   ]
  },
  {
   "cell_type": "code",
   "execution_count": 338,
   "metadata": {},
   "outputs": [],
   "source": [
    "f_avg = np.mean(avg_flors)   # calculate the square of the first moment\n",
    "\n",
    "f_sqs = np.zeros(len(avg_flors))\n",
    "\n",
    "for i in range(len(avg_flors)):\n",
    "    f_sqs[i] = avg_flors[i]**2  \n",
    "\n",
    "f_sq_avg = np.mean(f_sqs)        # calculate the second moment\n",
    "var_f = f_sq_avg - f_avg**2"
   ]
  },
  {
   "cell_type": "code",
   "execution_count": 339,
   "metadata": {},
   "outputs": [
    {
     "name": "stdout",
     "output_type": "stream",
     "text": [
      "variance of steady state fluorescence signal = 732.1204442385424\n"
     ]
    }
   ],
   "source": [
    "print(\"variance of steady state fluorescence signal = \" + str(var_f))"
   ]
  },
  {
   "cell_type": "code",
   "execution_count": 340,
   "metadata": {},
   "outputs": [],
   "source": [
    "a = np.asarray([4,5,6])"
   ]
  },
  {
   "cell_type": "code",
   "execution_count": null,
   "metadata": {},
   "outputs": [],
   "source": []
  },
  {
   "cell_type": "code",
   "execution_count": 341,
   "metadata": {},
   "outputs": [
    {
     "data": {
      "image/png": "[encoded data removed]",
      "text/plain": [
       "<Figure size 432x288 with 1 Axes>"
      ]
     },
     "metadata": {},
     "output_type": "display_data"
    }
   ],
   "source": [
    "# Now compute the average correlation function from the set of 70.\n",
    "# We see that the autocorrelation function appears as a decay curve\n",
    "mean_auto_data = np.mean(auto_traces, axis = 0)\n",
    "plt.plot((mean_auto_data[np.argmax(mean_auto_data):]))   # plot only half of the autocorrelation function (symmetric on both sides of max)\n",
    "\n",
    "\n",
    "t = np.linspace(start=0,stop=100 )\n",
    "\n",
    "plt.xlabel(r'Wait time $\\tau$')\n",
    "plt.ylabel(r'autocorrelation M($\\tau$)')\n",
    "plt.show()"
   ]
  },
  {
   "cell_type": "code",
   "execution_count": 342,
   "metadata": {},
   "outputs": [],
   "source": [
    "# create a routine that bootstraps a set of data arrays according to Coulon & Lardon (2016)\n",
    "\n",
    "cutoff = np.argmax(mean_auto_data)    # take only the right half of autocorrelation fns, based on our og dataset's max\n",
    "normtraces = np.asarray(normtraces)           # convert to a numpy array to play with indices\n",
    "n_traces = len(traces)                # number of traces in our dataset\n",
    "n_trials = 1000                      # how many times we wish to compute the bootstrap loop\n",
    "trace_indx = np.arange(n_traces)      # the index range of the list of traces\n",
    "auto_averages = []                    # list of averaged autocorrelation functions (should be n_trials long)\n",
    "\n",
    "\n",
    "# sample randomly, with replacement, a new set of n_traces 10,000 times\n",
    "for i in range(n_trials):\n",
    "    \n",
    "    # from our list of traces, sample radomly the trace_index of these datum in the list\n",
    "    random_indx = np.random.choice(trace_indx, size=n_traces, replace=True)  \n",
    "    \n",
    "    # then use this array of indices to create our random package of traces\n",
    "    sample_set = normtraces[random_indx]\n",
    "    auto_list = []\n",
    "    \n",
    "    # next compute the autocorrelation function from this package of traces\n",
    "    for sample in sample_set:\n",
    "        aut = np.correlate(sample, sample, 'same')\n",
    "        #auto_list.append(aut / (np.std(sample) * np.std(sample)))   # normalize each correlation for easy fitting later\n",
    "    \n",
    "        auto_list.append(aut / np.max(aut))   # normalize each autocorrelation to 1\n",
    "\n",
    "    \n",
    "    auto_mu = np.mean(auto_list, axis=0)      # now average together the autocorrelation functions from the list    \n",
    "    auto_averages.append(auto_mu[cutoff:])    # add the right half of the average to the list of average autocorrelation functions\n"
   ]
  },
  {
   "cell_type": "code",
   "execution_count": 343,
   "metadata": {},
   "outputs": [],
   "source": [
    "auto_averages = np.asarray(auto_averages)"
   ]
  },
  {
   "cell_type": "code",
   "execution_count": 344,
   "metadata": {},
   "outputs": [],
   "source": [
    "# now let's compute the standard deviations of the set of 10000 autocorrelation functions. This is the STANDARD ERROR\n",
    "# on our dataset\n",
    "# compute at each time step (tau):\n",
    "std_dev_arr = np.std(auto_averages, axis=0)"
   ]
  },
  {
   "cell_type": "code",
   "execution_count": 345,
   "metadata": {},
   "outputs": [
    {
     "data": {
      "image/png": "[encoded data removed]",
      "text/plain": [
       "<Figure size 432x288 with 1 Axes>"
      ]
     },
     "metadata": {},
     "output_type": "display_data"
    },
    {
     "data": {
      "text/plain": [
       "<Figure size 432x288 with 0 Axes>"
      ]
     },
     "metadata": {},
     "output_type": "display_data"
    }
   ],
   "source": [
    "tau = np.arange(len(mean_auto_data[cutoff:]))   # tau array to plot against\n",
    "\n",
    "plt.errorbar(x=tau, y=mean_auto_data[cutoff:], yerr=(std_dev_arr*3, std_dev_arr*3), ecolor='b', alpha=0.4, label = r'simulation $3\\sigma$ standard error')  \n",
    "\n",
    "# show the mean of our original dataset in red\n",
    "plt.plot(tau, mean_auto_data[cutoff:], color='k', label = r'mean simulation dataset autocorrelation M($\\tau$)')\n",
    "plt.legend()\n",
    "plt.xlabel(r'Wait time $\\tau$')\n",
    "plt.ylabel(r'M($\\tau$)')\n",
    "plt.show()\n",
    "\n",
    "plt.savefig('/Users/tmakinen/Documents/plots/errorbar.png', dpi='figure', bbox_inches='tight', overwrite=True)"
   ]
  },
  {
   "cell_type": "code",
   "execution_count": 346,
   "metadata": {},
   "outputs": [
    {
     "data": {
      "image/png": "[encoded data removed]",
      "text/plain": [
       "<Figure size 432x288 with 1 Axes>"
      ]
     },
     "metadata": {},
     "output_type": "display_data"
    }
   ],
   "source": [
    "for i in auto_averages[::10]:\n",
    "    plt.plot(i/np.max(i), color='b', alpha=0.05)   # plot a bunch of our traces to see error zones\n",
    "    \n",
    "plt.scatter(tau, mean_auto_data[cutoff:] /np.max(mean_auto_data[cutoff:]), marker='.', color='r', label = 'Mean Numerical Autocorrelation')   # show the mean of our original dataset in red\n",
    "plt.legend()\n",
    "plt.xlabel(r'Wait time $\\tau$')\n",
    "plt.ylabel(r'correlation M($\\tau$)')\n",
    "plt.show()"
   ]
  },
  {
   "cell_type": "code",
   "execution_count": 347,
   "metadata": {},
   "outputs": [],
   "source": [
    "\"\"\"\"\n",
    "Autocorrelation function analysis using Despond et al's two-state model\n",
    "parameters:\n",
    "    p_on: probability that system is in an on state, p_on = k_on / k_off + k_on\n",
    "    k_on: given as 1/mu for exponential distribution of ON wait times\n",
    "    k_off: 1/mu for exponential distribution of OFF wait times\n",
    "    k_gfp: gfp loop agglomeration rate such that L(t) = k_gfp*t, L(t) !> maxloops\n",
    "    maxloops: max number of gfp loops allowed in chain\n",
    "    \"\"\"\n",
    "\n",
    "\n",
    "def autocorr(t, chartime):  # take in parameters and t (index of signal data array)\n",
    "    \n",
    "    #k_on = pars[0]\n",
    "    #k_off = pars[1]\n",
    "    \n",
    "    stepsize = 3   # seconds / step\n",
    "\n",
    "    k_gfp = 3       # gfp molecules / second\n",
    "    cts = 1000      # counts per gfp molecule\n",
    "    k_polII = 1     # how many polII's started per second\n",
    "    maxloops = 24  # max number of gfp loops that attach to each polII site\n",
    "    \n",
    "    var_f = 3841.1116105175097  # calculated above\n",
    "    v_elg = 1/6     # elongation rate of GFP MS2 loop chain\n",
    "    v_elg_step = v_elg * stepsize  # elongation rate by timestep\n",
    "    r=maxloops      # index\n",
    "    \n",
    "    # loop function that describes GFP MS2 loop aggregation\n",
    "    loop = np.arange(1, maxloops+1, v_elg_step).astype(int)  \n",
    "    \n",
    "    # write analytic autocorrelation function according to Desponds et al:    \n",
    "    # chartime is defined as k_on + k_off\n",
    "    \n",
    "    delta = 1 - chartime\n",
    "    \n",
    "    #frac = 1 / ((1/k_on) + (1/k_off))\n",
    "        \n",
    "    p_on = 0.1\n",
    "    p_off = (1-p_on)\n",
    "    \n",
    "       \n",
    "    # write a for loop to do the double sums:\n",
    "    sm = 0\n",
    "    test = 0\n",
    "    for i in np.arange(1,r+1):\n",
    "        for j in np.arange(1,r+1):\n",
    "            sm += p_on*p_off*(loop[i] * loop[j] * np.exp((delta-1)*np.abs(t - j + i)))\n",
    "                        \n",
    "    Cr = sm #/ np.max(sm)\n",
    "    return sm / np.max(sm)   # normalize to 1\n",
    "\n",
    "\n",
    "    # add in the finite trace correction for the Ornstein-Uhlenbeck process\n",
    "    k = duration // stepsize    # length of our simulated time traces (steady state duration)\n",
    "    \n",
    "    smm = 0\n",
    "    \n",
    "    for i in range(1, k-1): \n",
    "        smm += 2*(k - i)*Cr\n",
    "        \n",
    "    sm2 = 0\n",
    "    \n",
    "    #for i in range(r-1):\n",
    "    \n",
    "    #return (1/var_f) * (Cr + (1/k)*((1/k) - (2./(k-r)))*(k*1 + smm) + 1) #(2/(k*(k-r))) * (r*1 + sm2)\n",
    "    \n",
    "\n",
    "    "
   ]
  },
  {
   "cell_type": "code",
   "execution_count": 348,
   "metadata": {},
   "outputs": [
    {
     "data": {
      "text/plain": [
       "array([ 0,  1,  2,  3,  4,  5,  6,  7,  8,  9, 10, 11, 12, 13, 14, 15, 16,\n",
       "       17, 18, 19, 20, 21, 22, 23])"
      ]
     },
     "execution_count": 348,
     "metadata": {},
     "output_type": "execute_result"
    }
   ],
   "source": [
    "np.arange(24)"
   ]
  },
  {
   "cell_type": "code",
   "execution_count": 349,
   "metadata": {},
   "outputs": [],
   "source": [
    "dat = mean_auto_data[cutoff:]\n",
    "t = np.arange(len(dat))"
   ]
  },
  {
   "cell_type": "code",
   "execution_count": 350,
   "metadata": {},
   "outputs": [
    {
     "name": "stderr",
     "output_type": "stream",
     "text": [
      "C:\\Users\\tmakinen\\AppData\\Local\\Continuum\\anaconda3\\lib\\site-packages\\ipykernel_launcher.py:51: RuntimeWarning: invalid value encountered in true_divide\n"
     ]
    },
    {
     "data": {
      "text/plain": [
       "array([0.00981665])"
      ]
     },
     "execution_count": 350,
     "metadata": {},
     "output_type": "execute_result"
    }
   ],
   "source": [
    "from scipy.optimize import curve_fit\n",
    "\n",
    "popt,pcov = curve_fit(autocorr, t, dat)\n",
    "\n",
    "popt"
   ]
  },
  {
   "cell_type": "code",
   "execution_count": 351,
   "metadata": {},
   "outputs": [
    {
     "data": {
      "image/png": "[encoded data removed]",
      "text/plain": [
       "<Figure size 432x288 with 1 Axes>"
      ]
     },
     "metadata": {},
     "output_type": "display_data"
    }
   ],
   "source": [
    "#plt.plot(tau, mean_auto_data[cutoff:])\n",
    "plt.plot(t, autocorr(t, popt[0]), label='infinite analytic model best fit')\n",
    "plt.scatter(t,dat, marker='.', color='r', label = 'mean simulated autocorrelation')   # show the mean of our original dataset in red\n",
    "plt.legend()\n",
    "plt.xlabel(r'Wait time $\\tau$')\n",
    "plt.ylabel(r'autocorrelation M($\\tau$)')\n",
    "plt.show()"
   ]
  },
  {
   "cell_type": "code",
   "execution_count": null,
   "metadata": {},
   "outputs": [],
   "source": []
  }
 ],
 "metadata": {
  "kernelspec": {
   "display_name": "Python 3",
   "language": "python",
   "name": "python3"
  },
  "language_info": {
   "codemirror_mode": {
    "name": "ipython",
    "version": 3
   },
   "file_extension": ".py",
   "mimetype": "text/x-python",
   "name": "python",
   "nbconvert_exporter": "python",
   "pygments_lexer": "ipython3",
   "version": "3.6.5"
  }
 },
 "nbformat": 4,
 "nbformat_minor": 2
}
